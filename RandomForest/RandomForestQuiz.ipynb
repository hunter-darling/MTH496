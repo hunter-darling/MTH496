{
 "cells": [
  {
   "cell_type": "code",
   "execution_count": null,
   "metadata": {},
   "outputs": [],
   "source": [
    "# RandomForestQuiz - 2020-04-24 - Hunter Darling"
   ]
  },
  {
   "cell_type": "code",
   "execution_count": 1,
   "metadata": {},
   "outputs": [],
   "source": [
    "import numpy as np\n",
    "import pandas as pd\n",
    "import seaborn as sns \n",
    "import matplotlib.pyplot as plt\n",
    "import matplotlib as mpl"
   ]
  },
  {
   "cell_type": "code",
   "execution_count": 2,
   "metadata": {},
   "outputs": [],
   "source": [
    "df_train = pd.read_csv('Quiz5_data/property_sales_train.csv')\n",
    "df_test = pd.read_csv('Quiz5_data/property_sales_test.csv')"
   ]
  },
  {
   "cell_type": "code",
   "execution_count": 3,
   "metadata": {},
   "outputs": [
    {
     "data": {
      "text/html": [
       "<div>\n",
       "<style scoped>\n",
       "    .dataframe tbody tr th:only-of-type {\n",
       "        vertical-align: middle;\n",
       "    }\n",
       "\n",
       "    .dataframe tbody tr th {\n",
       "        vertical-align: top;\n",
       "    }\n",
       "\n",
       "    .dataframe thead th {\n",
       "        text-align: right;\n",
       "    }\n",
       "</style>\n",
       "<table border=\"1\" class=\"dataframe\">\n",
       "  <thead>\n",
       "    <tr style=\"text-align: right;\">\n",
       "      <th></th>\n",
       "      <th>BOROUGH</th>\n",
       "      <th>NEIGHBORHOOD</th>\n",
       "      <th>BUILDING CLASS CATEGORY</th>\n",
       "      <th>TAX CLASS AT PRESENT</th>\n",
       "      <th>BLOCK</th>\n",
       "      <th>LOT</th>\n",
       "      <th>EASE-MENT</th>\n",
       "      <th>BUILDING CLASS AT PRESENT</th>\n",
       "      <th>ADDRESS</th>\n",
       "      <th>APARTMENT NUMBER</th>\n",
       "      <th>...</th>\n",
       "      <th>RESIDENTIAL UNITS</th>\n",
       "      <th>COMMERCIAL UNITS</th>\n",
       "      <th>TOTAL UNITS</th>\n",
       "      <th>LAND SQUARE FEET</th>\n",
       "      <th>GROSS SQUARE FEET</th>\n",
       "      <th>YEAR BUILT</th>\n",
       "      <th>TAX CLASS AT TIME OF SALE</th>\n",
       "      <th>BUILDING CLASS AT TIME OF SALE</th>\n",
       "      <th>SALE PRICE</th>\n",
       "      <th>SALE DATE</th>\n",
       "    </tr>\n",
       "  </thead>\n",
       "  <tbody>\n",
       "    <tr>\n",
       "      <th>0</th>\n",
       "      <td>5</td>\n",
       "      <td>GRANT CITY</td>\n",
       "      <td>13 CONDOS - ELEVATOR APARTMENTS</td>\n",
       "      <td>2</td>\n",
       "      <td>3585</td>\n",
       "      <td>1055</td>\n",
       "      <td></td>\n",
       "      <td>R4</td>\n",
       "      <td>100 COLFAX AVENUE</td>\n",
       "      <td>1J</td>\n",
       "      <td>...</td>\n",
       "      <td>1</td>\n",
       "      <td>0</td>\n",
       "      <td>1</td>\n",
       "      <td>-</td>\n",
       "      <td>-</td>\n",
       "      <td>1961</td>\n",
       "      <td>2</td>\n",
       "      <td>R4</td>\n",
       "      <td>235000</td>\n",
       "      <td>2016-12-21 00:00:00</td>\n",
       "    </tr>\n",
       "    <tr>\n",
       "      <th>1</th>\n",
       "      <td>1</td>\n",
       "      <td>HARLEM-CENTRAL</td>\n",
       "      <td>08 RENTALS - ELEVATOR APARTMENTS</td>\n",
       "      <td>2</td>\n",
       "      <td>1737</td>\n",
       "      <td>25</td>\n",
       "      <td></td>\n",
       "      <td>D3</td>\n",
       "      <td>30 WEST 141ST STREET</td>\n",
       "      <td></td>\n",
       "      <td>...</td>\n",
       "      <td>771</td>\n",
       "      <td>0</td>\n",
       "      <td>771</td>\n",
       "      <td>189025</td>\n",
       "      <td>555954</td>\n",
       "      <td>1959</td>\n",
       "      <td>2</td>\n",
       "      <td>D3</td>\n",
       "      <td>5020000</td>\n",
       "      <td>2016-11-07 00:00:00</td>\n",
       "    </tr>\n",
       "    <tr>\n",
       "      <th>2</th>\n",
       "      <td>4</td>\n",
       "      <td>SOUTH OZONE PARK</td>\n",
       "      <td>02 TWO FAMILY DWELLINGS</td>\n",
       "      <td>1</td>\n",
       "      <td>11666</td>\n",
       "      <td>47</td>\n",
       "      <td></td>\n",
       "      <td>B3</td>\n",
       "      <td>115-39 122ND STREET</td>\n",
       "      <td></td>\n",
       "      <td>...</td>\n",
       "      <td>2</td>\n",
       "      <td>0</td>\n",
       "      <td>2</td>\n",
       "      <td>2800</td>\n",
       "      <td>1224</td>\n",
       "      <td>1940</td>\n",
       "      <td>1</td>\n",
       "      <td>B3</td>\n",
       "      <td>475000</td>\n",
       "      <td>2017-03-23 00:00:00</td>\n",
       "    </tr>\n",
       "    <tr>\n",
       "      <th>3</th>\n",
       "      <td>1</td>\n",
       "      <td>MIDTOWN EAST</td>\n",
       "      <td>10 COOPS - ELEVATOR APARTMENTS</td>\n",
       "      <td>2</td>\n",
       "      <td>1370</td>\n",
       "      <td>38</td>\n",
       "      <td></td>\n",
       "      <td>D4</td>\n",
       "      <td>418 EAST 59TH STREET, 35A</td>\n",
       "      <td></td>\n",
       "      <td>...</td>\n",
       "      <td>0</td>\n",
       "      <td>0</td>\n",
       "      <td>0</td>\n",
       "      <td>-</td>\n",
       "      <td>-</td>\n",
       "      <td>1988</td>\n",
       "      <td>2</td>\n",
       "      <td>D4</td>\n",
       "      <td>1760000</td>\n",
       "      <td>2017-08-21 00:00:00</td>\n",
       "    </tr>\n",
       "    <tr>\n",
       "      <th>4</th>\n",
       "      <td>3</td>\n",
       "      <td>BRIGHTON BEACH</td>\n",
       "      <td>10 COOPS - ELEVATOR APARTMENTS</td>\n",
       "      <td>2</td>\n",
       "      <td>8721</td>\n",
       "      <td>375</td>\n",
       "      <td></td>\n",
       "      <td>D4</td>\n",
       "      <td>1311 BRIGHTWATER AVENUE, 8B</td>\n",
       "      <td></td>\n",
       "      <td>...</td>\n",
       "      <td>0</td>\n",
       "      <td>0</td>\n",
       "      <td>0</td>\n",
       "      <td>0</td>\n",
       "      <td>0</td>\n",
       "      <td>1959</td>\n",
       "      <td>2</td>\n",
       "      <td>D4</td>\n",
       "      <td>425000</td>\n",
       "      <td>2017-06-30 00:00:00</td>\n",
       "    </tr>\n",
       "  </tbody>\n",
       "</table>\n",
       "<p>5 rows × 21 columns</p>\n",
       "</div>"
      ],
      "text/plain": [
       "   BOROUGH      NEIGHBORHOOD                      BUILDING CLASS CATEGORY  \\\n",
       "0        5        GRANT CITY  13 CONDOS - ELEVATOR APARTMENTS               \n",
       "1        1    HARLEM-CENTRAL  08 RENTALS - ELEVATOR APARTMENTS              \n",
       "2        4  SOUTH OZONE PARK  02 TWO FAMILY DWELLINGS                       \n",
       "3        1      MIDTOWN EAST  10 COOPS - ELEVATOR APARTMENTS                \n",
       "4        3    BRIGHTON BEACH  10 COOPS - ELEVATOR APARTMENTS                \n",
       "\n",
       "  TAX CLASS AT PRESENT  BLOCK   LOT EASE-MENT BUILDING CLASS AT PRESENT  \\\n",
       "0                    2   3585  1055                                  R4   \n",
       "1                    2   1737    25                                  D3   \n",
       "2                    1  11666    47                                  B3   \n",
       "3                    2   1370    38                                  D4   \n",
       "4                    2   8721   375                                  D4   \n",
       "\n",
       "                       ADDRESS APARTMENT NUMBER  ...  RESIDENTIAL UNITS  \\\n",
       "0            100 COLFAX AVENUE               1J  ...                  1   \n",
       "1         30 WEST 141ST STREET                   ...                771   \n",
       "2          115-39 122ND STREET                   ...                  2   \n",
       "3    418 EAST 59TH STREET, 35A                   ...                  0   \n",
       "4  1311 BRIGHTWATER AVENUE, 8B                   ...                  0   \n",
       "\n",
       "   COMMERCIAL UNITS  TOTAL UNITS  LAND SQUARE FEET GROSS SQUARE FEET  \\\n",
       "0                 0            1               -                 -     \n",
       "1                 0          771            189025            555954   \n",
       "2                 0            2              2800              1224   \n",
       "3                 0            0               -                 -     \n",
       "4                 0            0                 0                 0   \n",
       "\n",
       "  YEAR BUILT  TAX CLASS AT TIME OF SALE  BUILDING CLASS AT TIME OF SALE  \\\n",
       "0       1961                          2                              R4   \n",
       "1       1959                          2                              D3   \n",
       "2       1940                          1                              B3   \n",
       "3       1988                          2                              D4   \n",
       "4       1959                          2                              D4   \n",
       "\n",
       "  SALE PRICE            SALE DATE  \n",
       "0     235000  2016-12-21 00:00:00  \n",
       "1    5020000  2016-11-07 00:00:00  \n",
       "2     475000  2017-03-23 00:00:00  \n",
       "3    1760000  2017-08-21 00:00:00  \n",
       "4     425000  2017-06-30 00:00:00  \n",
       "\n",
       "[5 rows x 21 columns]"
      ]
     },
     "execution_count": 3,
     "metadata": {},
     "output_type": "execute_result"
    }
   ],
   "source": [
    "df_train.head()"
   ]
  },
  {
   "cell_type": "code",
   "execution_count": 4,
   "metadata": {},
   "outputs": [
    {
     "name": "stdout",
     "output_type": "stream",
     "text": [
      "<class 'pandas.core.frame.DataFrame'>\n",
      "RangeIndex: 46891 entries, 0 to 46890\n",
      "Data columns (total 21 columns):\n",
      " #   Column                          Non-Null Count  Dtype \n",
      "---  ------                          --------------  ----- \n",
      " 0   BOROUGH                         46891 non-null  int64 \n",
      " 1   NEIGHBORHOOD                    46891 non-null  object\n",
      " 2   BUILDING CLASS CATEGORY         46891 non-null  object\n",
      " 3   TAX CLASS AT PRESENT            46891 non-null  object\n",
      " 4   BLOCK                           46891 non-null  int64 \n",
      " 5   LOT                             46891 non-null  int64 \n",
      " 6   EASE-MENT                       46891 non-null  object\n",
      " 7   BUILDING CLASS AT PRESENT       46891 non-null  object\n",
      " 8   ADDRESS                         46891 non-null  object\n",
      " 9   APARTMENT NUMBER                46891 non-null  object\n",
      " 10  ZIP CODE                        46891 non-null  int64 \n",
      " 11  RESIDENTIAL UNITS               46891 non-null  int64 \n",
      " 12  COMMERCIAL UNITS                46891 non-null  int64 \n",
      " 13  TOTAL UNITS                     46891 non-null  int64 \n",
      " 14  LAND SQUARE FEET                46891 non-null  object\n",
      " 15  GROSS SQUARE FEET               46891 non-null  object\n",
      " 16  YEAR BUILT                      46891 non-null  int64 \n",
      " 17  TAX CLASS AT TIME OF SALE       46891 non-null  int64 \n",
      " 18  BUILDING CLASS AT TIME OF SALE  46891 non-null  object\n",
      " 19  SALE PRICE                      46891 non-null  int64 \n",
      " 20  SALE DATE                       46891 non-null  object\n",
      "dtypes: int64(10), object(11)\n",
      "memory usage: 7.5+ MB\n"
     ]
    }
   ],
   "source": [
    "df_train.info()"
   ]
  },
  {
   "cell_type": "code",
   "execution_count": 5,
   "metadata": {},
   "outputs": [
    {
     "data": {
      "image/png": "[encoded data removed]",
      "text/plain": [
       "<Figure size 1080x720 with 2 Axes>"
      ]
     },
     "metadata": {
      "needs_background": "light"
     },
     "output_type": "display_data"
    }
   ],
   "source": [
    "plt.figure(figsize=(15,10))\n",
    "sns.set()\n",
    "houses = df_train.pivot_table(\"SALE PRICE\", \n",
    "                       \"BOROUGH\", \n",
    "                       \"TAX CLASS AT TIME OF SALE\")\n",
    "hm = sns.heatmap(houses)"
   ]
  },
  {
   "cell_type": "code",
   "execution_count": 6,
   "metadata": {},
   "outputs": [
    {
     "data": {
      "text/plain": [
       "144"
      ]
     },
     "execution_count": 6,
     "metadata": {},
     "output_type": "execute_result"
    }
   ],
   "source": [
    "np.count_nonzero(df_train[\"TOTAL UNITS\"].unique())"
   ]
  },
  {
   "cell_type": "code",
   "execution_count": 7,
   "metadata": {},
   "outputs": [],
   "source": [
    "drops = ['NEIGHBORHOOD','BUILDING CLASS CATEGORY','TAX CLASS AT PRESENT','EASE-MENT','BUILDING CLASS AT PRESENT',\n",
    "         'ADDRESS','APARTMENT NUMBER','RESIDENTIAL UNITS','COMMERCIAL UNITS','LAND SQUARE FEET',\n",
    "         'GROSS SQUARE FEET','BUILDING CLASS AT TIME OF SALE','SALE DATE']"
   ]
  },
  {
   "cell_type": "code",
   "execution_count": 8,
   "metadata": {},
   "outputs": [],
   "source": [
    "df_train1 = df_train.drop(drops, axis=1)\n",
    "df_test1 = df_test.drop(drops, axis=1)"
   ]
  },
  {
   "cell_type": "code",
   "execution_count": 9,
   "metadata": {},
   "outputs": [
    {
     "data": {
      "text/html": [
       "<div>\n",
       "<style scoped>\n",
       "    .dataframe tbody tr th:only-of-type {\n",
       "        vertical-align: middle;\n",
       "    }\n",
       "\n",
       "    .dataframe tbody tr th {\n",
       "        vertical-align: top;\n",
       "    }\n",
       "\n",
       "    .dataframe thead th {\n",
       "        text-align: right;\n",
       "    }\n",
       "</style>\n",
       "<table border=\"1\" class=\"dataframe\">\n",
       "  <thead>\n",
       "    <tr style=\"text-align: right;\">\n",
       "      <th></th>\n",
       "      <th>BOROUGH</th>\n",
       "      <th>BLOCK</th>\n",
       "      <th>LOT</th>\n",
       "      <th>ZIP CODE</th>\n",
       "      <th>TOTAL UNITS</th>\n",
       "      <th>YEAR BUILT</th>\n",
       "      <th>TAX CLASS AT TIME OF SALE</th>\n",
       "      <th>SALE PRICE</th>\n",
       "    </tr>\n",
       "  </thead>\n",
       "  <tbody>\n",
       "    <tr>\n",
       "      <th>0</th>\n",
       "      <td>5</td>\n",
       "      <td>3585</td>\n",
       "      <td>1055</td>\n",
       "      <td>10306</td>\n",
       "      <td>1</td>\n",
       "      <td>1961</td>\n",
       "      <td>2</td>\n",
       "      <td>235000</td>\n",
       "    </tr>\n",
       "    <tr>\n",
       "      <th>1</th>\n",
       "      <td>1</td>\n",
       "      <td>1737</td>\n",
       "      <td>25</td>\n",
       "      <td>10037</td>\n",
       "      <td>771</td>\n",
       "      <td>1959</td>\n",
       "      <td>2</td>\n",
       "      <td>5020000</td>\n",
       "    </tr>\n",
       "    <tr>\n",
       "      <th>2</th>\n",
       "      <td>4</td>\n",
       "      <td>11666</td>\n",
       "      <td>47</td>\n",
       "      <td>11420</td>\n",
       "      <td>2</td>\n",
       "      <td>1940</td>\n",
       "      <td>1</td>\n",
       "      <td>475000</td>\n",
       "    </tr>\n",
       "  </tbody>\n",
       "</table>\n",
       "</div>"
      ],
      "text/plain": [
       "   BOROUGH  BLOCK   LOT  ZIP CODE  TOTAL UNITS  YEAR BUILT  \\\n",
       "0        5   3585  1055     10306            1        1961   \n",
       "1        1   1737    25     10037          771        1959   \n",
       "2        4  11666    47     11420            2        1940   \n",
       "\n",
       "   TAX CLASS AT TIME OF SALE  SALE PRICE  \n",
       "0                          2      235000  \n",
       "1                          2     5020000  \n",
       "2                          1      475000  "
      ]
     },
     "execution_count": 9,
     "metadata": {},
     "output_type": "execute_result"
    }
   ],
   "source": [
    "df_train1[:3]"
   ]
  },
  {
   "cell_type": "code",
   "execution_count": 10,
   "metadata": {},
   "outputs": [
    {
     "data": {
      "text/html": [
       "<div>\n",
       "<style scoped>\n",
       "    .dataframe tbody tr th:only-of-type {\n",
       "        vertical-align: middle;\n",
       "    }\n",
       "\n",
       "    .dataframe tbody tr th {\n",
       "        vertical-align: top;\n",
       "    }\n",
       "\n",
       "    .dataframe thead th {\n",
       "        text-align: right;\n",
       "    }\n",
       "</style>\n",
       "<table border=\"1\" class=\"dataframe\">\n",
       "  <thead>\n",
       "    <tr style=\"text-align: right;\">\n",
       "      <th></th>\n",
       "      <th>BOROUGH</th>\n",
       "      <th>BLOCK</th>\n",
       "      <th>LOT</th>\n",
       "      <th>ZIP CODE</th>\n",
       "      <th>TOTAL UNITS</th>\n",
       "      <th>YEAR BUILT</th>\n",
       "      <th>TAX CLASS AT TIME OF SALE</th>\n",
       "    </tr>\n",
       "  </thead>\n",
       "  <tbody>\n",
       "    <tr>\n",
       "      <th>0</th>\n",
       "      <td>3</td>\n",
       "      <td>5143</td>\n",
       "      <td>38</td>\n",
       "      <td>11218</td>\n",
       "      <td>1</td>\n",
       "      <td>1920</td>\n",
       "      <td>1</td>\n",
       "    </tr>\n",
       "    <tr>\n",
       "      <th>1</th>\n",
       "      <td>3</td>\n",
       "      <td>36</td>\n",
       "      <td>1231</td>\n",
       "      <td>11201</td>\n",
       "      <td>1</td>\n",
       "      <td>1899</td>\n",
       "      <td>2</td>\n",
       "    </tr>\n",
       "    <tr>\n",
       "      <th>2</th>\n",
       "      <td>3</td>\n",
       "      <td>6197</td>\n",
       "      <td>26</td>\n",
       "      <td>11204</td>\n",
       "      <td>2</td>\n",
       "      <td>1925</td>\n",
       "      <td>1</td>\n",
       "    </tr>\n",
       "  </tbody>\n",
       "</table>\n",
       "</div>"
      ],
      "text/plain": [
       "   BOROUGH  BLOCK   LOT  ZIP CODE  TOTAL UNITS  YEAR BUILT  \\\n",
       "0        3   5143    38     11218            1        1920   \n",
       "1        3     36  1231     11201            1        1899   \n",
       "2        3   6197    26     11204            2        1925   \n",
       "\n",
       "   TAX CLASS AT TIME OF SALE  \n",
       "0                          1  \n",
       "1                          2  \n",
       "2                          1  "
      ]
     },
     "execution_count": 10,
     "metadata": {},
     "output_type": "execute_result"
    }
   ],
   "source": [
    "df_test1[:3]"
   ]
  },
  {
   "cell_type": "code",
   "execution_count": 11,
   "metadata": {},
   "outputs": [],
   "source": [
    "X_train = df_train1.drop(['SALE PRICE'], axis=1).values\n",
    "y_train = df_train1['SALE PRICE'].values\n",
    "X_test = df_test1"
   ]
  },
  {
   "cell_type": "code",
   "execution_count": 12,
   "metadata": {},
   "outputs": [],
   "source": [
    "from sklearn.preprocessing import MinMaxScaler"
   ]
  },
  {
   "cell_type": "code",
   "execution_count": 13,
   "metadata": {},
   "outputs": [],
   "source": [
    "X_train_norm = MinMaxScaler().fit_transform(X_train)\n",
    "X_test_norm = MinMaxScaler().fit_transform(X_test)"
   ]
  },
  {
   "cell_type": "code",
   "execution_count": 28,
   "metadata": {},
   "outputs": [],
   "source": [
    "my_n_estimators = [100, 200, 300]\n",
    "my_oob_scores = []\n",
    "from sklearn.ensemble import RandomForestRegressor\n",
    "for estimator in my_n_estimators:\n",
    "    myRF = RandomForestRegressor(n_estimators=estimator, \n",
    "                                 max_features=None,  \n",
    "                                 random_state=123, \n",
    "                                 oob_score=True,\n",
    "                                 n_jobs=1)\n",
    "    myRF.fit(X_train_norm, y_train)\n",
    "    my_oob_scores.append([estimator, myRF.oob_score_])"
   ]
  },
  {
   "cell_type": "code",
   "execution_count": 29,
   "metadata": {},
   "outputs": [
    {
     "data": {
      "text/plain": [
       "[[100, 0.09731789500250176],\n",
       " [200, 0.16168500031750332],\n",
       " [300, 0.16729456071504845]]"
      ]
     },
     "execution_count": 29,
     "metadata": {},
     "output_type": "execute_result"
    }
   ],
   "source": [
    "my_oob_scores"
   ]
  },
  {
   "cell_type": "code",
   "execution_count": 30,
   "metadata": {},
   "outputs": [],
   "source": [
    "n_estimators_best = 300\n",
    "my_max_features = [i for i in range(1,X_train_norm.shape[1])] \n",
    "my_oob_scores = []\n",
    "for max_features in my_max_features:\n",
    "    myRF = RandomForestRegressor(n_estimators=n_estimators_best,\n",
    "                                 max_features=max_features,  \n",
    "                                 random_state=123, \n",
    "                                 oob_score=True)\n",
    "    myRF.fit(X_train_norm, y_train)\n",
    "    my_oob_scores.append([max_features, myRF.oob_score_])"
   ]
  },
  {
   "cell_type": "code",
   "execution_count": 31,
   "metadata": {},
   "outputs": [
    {
     "data": {
      "text/plain": [
       "[[1, 0.2848464252298665],\n",
       " [2, 0.313666662015446],\n",
       " [3, 0.293062742458017],\n",
       " [4, 0.23206649493066434],\n",
       " [5, 0.24072628066521695],\n",
       " [6, 0.21055043065674517]]"
      ]
     },
     "execution_count": 31,
     "metadata": {},
     "output_type": "execute_result"
    }
   ],
   "source": [
    "my_oob_scores"
   ]
  },
  {
   "cell_type": "code",
   "execution_count": 33,
   "metadata": {},
   "outputs": [],
   "source": [
    "max_features_best = 2\n",
    "myRF = RandomForestRegressor(n_estimators=n_estimators_best,\n",
    "                              max_features=max_features_best,  \n",
    "                              random_state=123, oob_score=True)"
   ]
  },
  {
   "cell_type": "code",
   "execution_count": 34,
   "metadata": {},
   "outputs": [
    {
     "data": {
      "text/plain": [
       "RandomForestRegressor(bootstrap=True, ccp_alpha=0.0, criterion='mse',\n",
       "                      max_depth=None, max_features=2, max_leaf_nodes=None,\n",
       "                      max_samples=None, min_impurity_decrease=0.0,\n",
       "                      min_impurity_split=None, min_samples_leaf=1,\n",
       "                      min_samples_split=2, min_weight_fraction_leaf=0.0,\n",
       "                      n_estimators=300, n_jobs=None, oob_score=True,\n",
       "                      random_state=123, verbose=0, warm_start=False)"
      ]
     },
     "execution_count": 34,
     "metadata": {},
     "output_type": "execute_result"
    }
   ],
   "source": [
    "myRF.fit(X_train_norm, y_train)"
   ]
  },
  {
   "cell_type": "code",
   "execution_count": 35,
   "metadata": {},
   "outputs": [],
   "source": [
    "y_pred = myRF.predict(X_test_norm)"
   ]
  }
 ],
 "metadata": {
  "kernelspec": {
   "display_name": "Python 3",
   "language": "python",
   "name": "python3"
  },
  "language_info": {
   "codemirror_mode": {
    "name": "ipython",
    "version": 3
   },
   "file_extension": ".py",
   "mimetype": "text/x-python",
   "name": "python",
   "nbconvert_exporter": "python",
   "pygments_lexer": "ipython3",
   "version": "3.7.6"
  }
 },
 "nbformat": 4,
 "nbformat_minor": 4
}
