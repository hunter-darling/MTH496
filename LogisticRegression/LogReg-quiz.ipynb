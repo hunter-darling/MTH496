{
 "cells": [
  {
   "cell_type": "code",
   "execution_count": null,
   "metadata": {
    "jupyter": {
     "source_hidden": true
    }
   },
   "outputs": [],
   "source": [
    "# Author: Hunter Darling, MTH-496 Quiz 2 - Logistic Regression"
   ]
  },
  {
   "cell_type": "code",
   "execution_count": 1,
   "metadata": {},
   "outputs": [],
   "source": [
    "import numpy as np\n",
    "import pandas as pd\n",
    "import seaborn as sns \n",
    "import matplotlib.pyplot as plt\n",
    "from sklearn.linear_model import LogisticRegression\n",
    "from sklearn import preprocessing\n",
    "from sklearn.metrics import accuracy_score\n",
    "minmax_scaler = preprocessing.MinMaxScaler()\n",
    "stand_scaler = preprocessing.StandardScaler()"
   ]
  },
  {
   "cell_type": "code",
   "execution_count": 2,
   "metadata": {},
   "outputs": [],
   "source": [
    "df_train = pd.read_csv('data/noshow_train.csv')\n",
    "df_test = pd.read_csv('data/noshow_test.csv')\n",
    "# may need to change to omit features"
   ]
  },
  {
   "cell_type": "code",
   "execution_count": 20,
   "metadata": {},
   "outputs": [
    {
     "data": {
      "text/html": [
       "<div>\n",
       "<style scoped>\n",
       "    .dataframe tbody tr th:only-of-type {\n",
       "        vertical-align: middle;\n",
       "    }\n",
       "\n",
       "    .dataframe tbody tr th {\n",
       "        vertical-align: top;\n",
       "    }\n",
       "\n",
       "    .dataframe thead th {\n",
       "        text-align: right;\n",
       "    }\n",
       "</style>\n",
       "<table border=\"1\" class=\"dataframe\">\n",
       "  <thead>\n",
       "    <tr style=\"text-align: right;\">\n",
       "      <th></th>\n",
       "      <th>PatientId</th>\n",
       "      <th>AppointmentID</th>\n",
       "      <th>Gender</th>\n",
       "      <th>ScheduledDay</th>\n",
       "      <th>AppointmentDay</th>\n",
       "      <th>Age</th>\n",
       "      <th>Neighbourhood</th>\n",
       "      <th>Scholarship</th>\n",
       "      <th>Hipertension</th>\n",
       "      <th>Diabetes</th>\n",
       "      <th>Alcoholism</th>\n",
       "      <th>Handcap</th>\n",
       "      <th>SMS_received</th>\n",
       "      <th>No-show</th>\n",
       "    </tr>\n",
       "  </thead>\n",
       "  <tbody>\n",
       "    <tr>\n",
       "      <td>0</td>\n",
       "      <td>1.328182e+08</td>\n",
       "      <td>5564358</td>\n",
       "      <td>F</td>\n",
       "      <td>2016-04-11T07:32:09Z</td>\n",
       "      <td>2016-05-10T00:00:00Z</td>\n",
       "      <td>35</td>\n",
       "      <td>SANTA CLARA</td>\n",
       "      <td>0</td>\n",
       "      <td>0</td>\n",
       "      <td>0</td>\n",
       "      <td>0</td>\n",
       "      <td>0</td>\n",
       "      <td>1</td>\n",
       "      <td>0</td>\n",
       "    </tr>\n",
       "    <tr>\n",
       "      <td>1</td>\n",
       "      <td>6.414363e+12</td>\n",
       "      <td>5697382</td>\n",
       "      <td>M</td>\n",
       "      <td>2016-05-13T15:41:49Z</td>\n",
       "      <td>2016-05-20T00:00:00Z</td>\n",
       "      <td>50</td>\n",
       "      <td>DA PENHA</td>\n",
       "      <td>0</td>\n",
       "      <td>0</td>\n",
       "      <td>0</td>\n",
       "      <td>0</td>\n",
       "      <td>0</td>\n",
       "      <td>0</td>\n",
       "      <td>0</td>\n",
       "    </tr>\n",
       "    <tr>\n",
       "      <td>2</td>\n",
       "      <td>8.499273e+12</td>\n",
       "      <td>5630770</td>\n",
       "      <td>F</td>\n",
       "      <td>2016-04-27T16:18:15Z</td>\n",
       "      <td>2016-05-03T00:00:00Z</td>\n",
       "      <td>7</td>\n",
       "      <td>ANDORINHAS</td>\n",
       "      <td>0</td>\n",
       "      <td>0</td>\n",
       "      <td>0</td>\n",
       "      <td>0</td>\n",
       "      <td>0</td>\n",
       "      <td>0</td>\n",
       "      <td>1</td>\n",
       "    </tr>\n",
       "    <tr>\n",
       "      <td>3</td>\n",
       "      <td>5.258463e+10</td>\n",
       "      <td>5650746</td>\n",
       "      <td>F</td>\n",
       "      <td>2016-05-03T08:04:43Z</td>\n",
       "      <td>2016-05-10T00:00:00Z</td>\n",
       "      <td>16</td>\n",
       "      <td>NOVA PALESTINA</td>\n",
       "      <td>0</td>\n",
       "      <td>0</td>\n",
       "      <td>0</td>\n",
       "      <td>0</td>\n",
       "      <td>0</td>\n",
       "      <td>1</td>\n",
       "      <td>0</td>\n",
       "    </tr>\n",
       "    <tr>\n",
       "      <td>4</td>\n",
       "      <td>6.234618e+14</td>\n",
       "      <td>5533700</td>\n",
       "      <td>F</td>\n",
       "      <td>2016-03-31T14:19:08Z</td>\n",
       "      <td>2016-04-29T00:00:00Z</td>\n",
       "      <td>27</td>\n",
       "      <td>SANTA TEREZA</td>\n",
       "      <td>0</td>\n",
       "      <td>0</td>\n",
       "      <td>0</td>\n",
       "      <td>0</td>\n",
       "      <td>0</td>\n",
       "      <td>1</td>\n",
       "      <td>1</td>\n",
       "    </tr>\n",
       "  </tbody>\n",
       "</table>\n",
       "</div>"
      ],
      "text/plain": [
       "      PatientId  AppointmentID Gender          ScheduledDay  \\\n",
       "0  1.328182e+08        5564358      F  2016-04-11T07:32:09Z   \n",
       "1  6.414363e+12        5697382      M  2016-05-13T15:41:49Z   \n",
       "2  8.499273e+12        5630770      F  2016-04-27T16:18:15Z   \n",
       "3  5.258463e+10        5650746      F  2016-05-03T08:04:43Z   \n",
       "4  6.234618e+14        5533700      F  2016-03-31T14:19:08Z   \n",
       "\n",
       "         AppointmentDay  Age   Neighbourhood  Scholarship  Hipertension  \\\n",
       "0  2016-05-10T00:00:00Z   35     SANTA CLARA            0             0   \n",
       "1  2016-05-20T00:00:00Z   50        DA PENHA            0             0   \n",
       "2  2016-05-03T00:00:00Z    7      ANDORINHAS            0             0   \n",
       "3  2016-05-10T00:00:00Z   16  NOVA PALESTINA            0             0   \n",
       "4  2016-04-29T00:00:00Z   27    SANTA TEREZA            0             0   \n",
       "\n",
       "   Diabetes  Alcoholism  Handcap  SMS_received  No-show  \n",
       "0         0           0        0             1        0  \n",
       "1         0           0        0             0        0  \n",
       "2         0           0        0             0        1  \n",
       "3         0           0        0             1        0  \n",
       "4         0           0        0             1        1  "
      ]
     },
     "execution_count": 20,
     "metadata": {},
     "output_type": "execute_result"
    }
   ],
   "source": [
    "df_train.head()"
   ]
  },
  {
   "cell_type": "code",
   "execution_count": 4,
   "metadata": {},
   "outputs": [
    {
     "data": {
      "text/html": [
       "<div>\n",
       "<style scoped>\n",
       "    .dataframe tbody tr th:only-of-type {\n",
       "        vertical-align: middle;\n",
       "    }\n",
       "\n",
       "    .dataframe tbody tr th {\n",
       "        vertical-align: top;\n",
       "    }\n",
       "\n",
       "    .dataframe thead th {\n",
       "        text-align: right;\n",
       "    }\n",
       "</style>\n",
       "<table border=\"1\" class=\"dataframe\">\n",
       "  <thead>\n",
       "    <tr style=\"text-align: right;\">\n",
       "      <th></th>\n",
       "      <th>PatientId</th>\n",
       "      <th>AppointmentID</th>\n",
       "      <th>Gender</th>\n",
       "      <th>ScheduledDay</th>\n",
       "      <th>AppointmentDay</th>\n",
       "      <th>Age</th>\n",
       "      <th>Neighbourhood</th>\n",
       "      <th>Scholarship</th>\n",
       "      <th>Hipertension</th>\n",
       "      <th>Diabetes</th>\n",
       "      <th>Alcoholism</th>\n",
       "      <th>Handcap</th>\n",
       "      <th>SMS_received</th>\n",
       "    </tr>\n",
       "  </thead>\n",
       "  <tbody>\n",
       "    <tr>\n",
       "      <td>0</td>\n",
       "      <td>8.523459e+13</td>\n",
       "      <td>5695263</td>\n",
       "      <td>M</td>\n",
       "      <td>2016-05-13T09:51:06Z</td>\n",
       "      <td>2016-05-16T00:00:00Z</td>\n",
       "      <td>73</td>\n",
       "      <td>ITARARÉ</td>\n",
       "      <td>0</td>\n",
       "      <td>1</td>\n",
       "      <td>1</td>\n",
       "      <td>0</td>\n",
       "      <td>0</td>\n",
       "      <td>0</td>\n",
       "    </tr>\n",
       "    <tr>\n",
       "      <td>1</td>\n",
       "      <td>1.783438e+12</td>\n",
       "      <td>5683970</td>\n",
       "      <td>M</td>\n",
       "      <td>2016-05-11T08:05:20Z</td>\n",
       "      <td>2016-05-11T00:00:00Z</td>\n",
       "      <td>0</td>\n",
       "      <td>SÃO BENEDITO</td>\n",
       "      <td>0</td>\n",
       "      <td>0</td>\n",
       "      <td>0</td>\n",
       "      <td>0</td>\n",
       "      <td>0</td>\n",
       "      <td>0</td>\n",
       "    </tr>\n",
       "    <tr>\n",
       "      <td>2</td>\n",
       "      <td>1.445577e+10</td>\n",
       "      <td>5724179</td>\n",
       "      <td>F</td>\n",
       "      <td>2016-05-20T09:07:02Z</td>\n",
       "      <td>2016-05-20T00:00:00Z</td>\n",
       "      <td>21</td>\n",
       "      <td>GRANDE VITÓRIA</td>\n",
       "      <td>0</td>\n",
       "      <td>0</td>\n",
       "      <td>0</td>\n",
       "      <td>0</td>\n",
       "      <td>0</td>\n",
       "      <td>0</td>\n",
       "    </tr>\n",
       "    <tr>\n",
       "      <td>3</td>\n",
       "      <td>6.245924e+13</td>\n",
       "      <td>5619919</td>\n",
       "      <td>M</td>\n",
       "      <td>2016-04-26T08:28:06Z</td>\n",
       "      <td>2016-05-04T00:00:00Z</td>\n",
       "      <td>48</td>\n",
       "      <td>ANDORINHAS</td>\n",
       "      <td>0</td>\n",
       "      <td>0</td>\n",
       "      <td>0</td>\n",
       "      <td>0</td>\n",
       "      <td>0</td>\n",
       "      <td>1</td>\n",
       "    </tr>\n",
       "    <tr>\n",
       "      <td>4</td>\n",
       "      <td>8.996231e+13</td>\n",
       "      <td>5764117</td>\n",
       "      <td>F</td>\n",
       "      <td>2016-06-02T09:51:32Z</td>\n",
       "      <td>2016-06-03T00:00:00Z</td>\n",
       "      <td>15</td>\n",
       "      <td>BONFIM</td>\n",
       "      <td>0</td>\n",
       "      <td>0</td>\n",
       "      <td>0</td>\n",
       "      <td>0</td>\n",
       "      <td>0</td>\n",
       "      <td>0</td>\n",
       "    </tr>\n",
       "  </tbody>\n",
       "</table>\n",
       "</div>"
      ],
      "text/plain": [
       "      PatientId  AppointmentID Gender          ScheduledDay  \\\n",
       "0  8.523459e+13        5695263      M  2016-05-13T09:51:06Z   \n",
       "1  1.783438e+12        5683970      M  2016-05-11T08:05:20Z   \n",
       "2  1.445577e+10        5724179      F  2016-05-20T09:07:02Z   \n",
       "3  6.245924e+13        5619919      M  2016-04-26T08:28:06Z   \n",
       "4  8.996231e+13        5764117      F  2016-06-02T09:51:32Z   \n",
       "\n",
       "         AppointmentDay  Age   Neighbourhood  Scholarship  Hipertension  \\\n",
       "0  2016-05-16T00:00:00Z   73         ITARARÉ            0             1   \n",
       "1  2016-05-11T00:00:00Z    0    SÃO BENEDITO            0             0   \n",
       "2  2016-05-20T00:00:00Z   21  GRANDE VITÓRIA            0             0   \n",
       "3  2016-05-04T00:00:00Z   48      ANDORINHAS            0             0   \n",
       "4  2016-06-03T00:00:00Z   15          BONFIM            0             0   \n",
       "\n",
       "   Diabetes  Alcoholism  Handcap  SMS_received  \n",
       "0         1           0        0             0  \n",
       "1         0           0        0             0  \n",
       "2         0           0        0             0  \n",
       "3         0           0        0             1  \n",
       "4         0           0        0             0  "
      ]
     },
     "execution_count": 4,
     "metadata": {},
     "output_type": "execute_result"
    }
   ],
   "source": [
    "df_test.head()"
   ]
  },
  {
   "cell_type": "code",
   "execution_count": 58,
   "metadata": {},
   "outputs": [
    {
     "data": {
      "text/plain": [
       "(74053, 1)"
      ]
     },
     "execution_count": 58,
     "metadata": {},
     "output_type": "execute_result"
    }
   ],
   "source": [
    "df_train_fixed = df_train.copy()\n",
    "df_test_fixed = df_test.copy()\n",
    "df_train_fixed['Gender_coded'] = df_train['Gender'].map({'M':1, 'F':0})\n",
    "df_test_fixed['Gender_coded'] = df_test['Gender'].map({'M':1, 'F':0})\n",
    "#bins = (0, 50, 120)\n",
    "#group_names = ['young','old']\n",
    "#df_train_fixed['Age'] = pd.cut(df_train_fixed['Age'], bins=bins, labels=group_names)\n",
    "#df_test_fixed['Age'] = pd.cut(df_test_fixed['Age'], bins=bins, labels=group_names)\n",
    "#df_train_fixed['Age_coded'] = df_train_fixed['Age'].map({'old':1, 'young':0})\n",
    "#df_test_fixed['Age_coded'] = df_test_fixed['Age'].map({'old':1, 'young':0})\n",
    "\n",
    "X_train = df_train_fixed.drop(['PatientId','AppointmentID','Gender','Age','ScheduledDay','AppointmentDay',\n",
    "                         'Neighbourhood','No-show'],axis=1).values\n",
    "y_train = df_train_fixed[['No-show']].values\n",
    "X_test = df_test_fixed.drop(['PatientId','AppointmentID','Gender','Age','ScheduledDay','AppointmentDay','Neighbourhood'],axis=1).values\n",
    "y_train.shape"
   ]
  },
  {
   "cell_type": "code",
   "execution_count": 59,
   "metadata": {},
   "outputs": [
    {
     "data": {
      "text/plain": [
       "(74053, 7)"
      ]
     },
     "execution_count": 59,
     "metadata": {},
     "output_type": "execute_result"
    }
   ],
   "source": [
    "X_train.shape"
   ]
  },
  {
   "cell_type": "code",
   "execution_count": 60,
   "metadata": {},
   "outputs": [
    {
     "data": {
      "text/plain": [
       "array([[0, 0, 0, 0, 0, 1, 0],\n",
       "       [0, 0, 0, 0, 0, 0, 1],\n",
       "       [0, 0, 0, 0, 0, 0, 0],\n",
       "       [0, 0, 0, 0, 0, 1, 0],\n",
       "       [0, 0, 0, 0, 0, 1, 0],\n",
       "       [0, 1, 1, 0, 0, 0, 0],\n",
       "       [0, 0, 0, 0, 0, 1, 0],\n",
       "       [0, 0, 0, 0, 0, 1, 0],\n",
       "       [0, 0, 0, 0, 0, 0, 0],\n",
       "       [0, 0, 0, 0, 0, 0, 0]])"
      ]
     },
     "execution_count": 60,
     "metadata": {},
     "output_type": "execute_result"
    }
   ],
   "source": [
    "X_train[:10]"
   ]
  },
  {
   "cell_type": "code",
   "execution_count": 61,
   "metadata": {},
   "outputs": [
    {
     "data": {
      "text/plain": [
       "(36474, 7)"
      ]
     },
     "execution_count": 61,
     "metadata": {},
     "output_type": "execute_result"
    }
   ],
   "source": [
    "X_test.shape"
   ]
  },
  {
   "cell_type": "code",
   "execution_count": 62,
   "metadata": {},
   "outputs": [
    {
     "data": {
      "text/plain": [
       "array([[0],\n",
       "       [0],\n",
       "       [1],\n",
       "       [0],\n",
       "       [1],\n",
       "       [0],\n",
       "       [0],\n",
       "       [0],\n",
       "       [0],\n",
       "       [0]])"
      ]
     },
     "execution_count": 62,
     "metadata": {},
     "output_type": "execute_result"
    }
   ],
   "source": [
    "y_train[:10]"
   ]
  },
  {
   "cell_type": "markdown",
   "metadata": {},
   "source": [
    "### No Standardization"
   ]
  },
  {
   "cell_type": "code",
   "execution_count": 63,
   "metadata": {},
   "outputs": [
    {
     "data": {
      "text/plain": [
       "array([0, 0, 0, 0, 0, 0, 0, 0, 0, 0, 0, 0, 0, 0, 0, 0, 0, 0, 0, 0, 0, 0,\n",
       "       0, 0, 0, 0, 0, 0, 0, 0, 0, 0, 0, 0, 0, 0, 0, 0, 0, 0, 0, 0, 0, 0,\n",
       "       0, 0, 0, 0, 0, 0, 0, 0, 0, 0, 0, 0, 0, 0, 0, 0, 0, 0, 0, 0, 0, 0,\n",
       "       0, 0, 0, 0, 0, 0, 0, 0, 0, 0, 0, 0, 0, 0, 0, 0, 0, 0, 0, 0, 0, 0,\n",
       "       0, 0, 0, 0, 0, 0, 0, 0, 0, 0, 0, 0])"
      ]
     },
     "execution_count": 63,
     "metadata": {},
     "output_type": "execute_result"
    }
   ],
   "source": [
    "logreg = LogisticRegression(penalty='none', solver='saga', max_iter = 10000)\n",
    "logreg.fit(X_train, y_train.ravel())\n",
    "y_pred = logreg.predict(X_test)\n",
    "y_pred[:100]"
   ]
  },
  {
   "cell_type": "markdown",
   "metadata": {},
   "source": [
    "### Standardized with MinMaxScaler"
   ]
  },
  {
   "cell_type": "code",
   "execution_count": 64,
   "metadata": {},
   "outputs": [
    {
     "data": {
      "text/plain": [
       "array([0, 0, 0, 0, 0, 0, 0, 0, 0, 0, 0, 0, 0, 0, 0, 0, 0, 0, 0, 0, 0, 0,\n",
       "       0, 0, 0, 0, 0, 0, 0, 0, 0, 0, 0, 0, 0, 0, 0, 0, 0, 0, 0, 0, 0, 0,\n",
       "       0, 0, 0, 0, 0, 0, 0, 0, 0, 0, 0, 0, 0, 0, 0, 0, 0, 0, 0, 0, 0, 0,\n",
       "       0, 0, 0, 0, 0, 0, 0, 0, 0, 0, 0, 0, 0, 0, 0, 0, 0, 0, 0, 0, 0, 0,\n",
       "       0, 0, 0, 0, 0, 0, 0, 0, 0, 0, 0, 0])"
      ]
     },
     "execution_count": 64,
     "metadata": {},
     "output_type": "execute_result"
    }
   ],
   "source": [
    "minmax_scaler.fit(X_train) \n",
    "X_train_minmax = minmax_scaler.transform(X_train)\n",
    "X_test_minmax = minmax_scaler.transform(X_test)\n",
    "logreg2 = LogisticRegression(penalty = 'none', solver = 'saga', max_iter= 10000)\n",
    "logreg2.fit(X_train_minmax, y_train.ravel())\n",
    "y_pred_minmax = logreg2.predict(X_test_minmax)\n",
    "y_pred_minmax[:100]"
   ]
  },
  {
   "cell_type": "code",
   "execution_count": 68,
   "metadata": {
    "jupyter": {
     "source_hidden": true
    }
   },
   "outputs": [],
   "source": [
    "#X_train_minmax[:10]"
   ]
  },
  {
   "cell_type": "markdown",
   "metadata": {},
   "source": [
    "### Standardized with StandardScaler"
   ]
  },
  {
   "cell_type": "code",
   "execution_count": 65,
   "metadata": {},
   "outputs": [
    {
     "data": {
      "text/plain": [
       "array([0, 0, 0, 0, 0, 0, 0, 0, 0, 0, 0, 0, 0, 0, 0, 0, 0, 0, 0, 0, 0, 0,\n",
       "       0, 0, 0, 0, 0, 0, 0, 0, 0, 0, 0, 0, 0, 0, 0, 0, 0, 0, 0, 0, 0, 0,\n",
       "       0, 0, 0, 0, 0, 0, 0, 0, 0, 0, 0, 0, 0, 0, 0, 0, 0, 0, 0, 0, 0, 0,\n",
       "       0, 0, 0, 0, 0, 0, 0, 0, 0, 0, 0, 0, 0, 0, 0, 0, 0, 0, 0, 0, 0, 0,\n",
       "       0, 0, 0, 0, 0, 0, 0, 0, 0, 0, 0, 0])"
      ]
     },
     "execution_count": 65,
     "metadata": {},
     "output_type": "execute_result"
    }
   ],
   "source": [
    "stand_scaler.fit(X_train)\n",
    "X_train_stand = stand_scaler.transform(X_train)\n",
    "X_test_stand = stand_scaler.transform(X_test)\n",
    "logreg3 = LogisticRegression(penalty = 'none', solver = 'saga', max_iter= 10000)\n",
    "logreg3.fit(X_train_stand, y_train.ravel())\n",
    "y_pred_stand = logreg3.predict(X_test_stand)\n",
    "y_pred_stand[:100]"
   ]
  },
  {
   "cell_type": "code",
   "execution_count": 67,
   "metadata": {},
   "outputs": [],
   "source": [
    "#X_train_stand[:10]"
   ]
  }
 ],
 "metadata": {
  "kernelspec": {
   "display_name": "Python 3",
   "language": "python",
   "name": "python3"
  },
  "language_info": {
   "codemirror_mode": {
    "name": "ipython",
    "version": 3
   },
   "file_extension": ".py",
   "mimetype": "text/x-python",
   "name": "python",
   "nbconvert_exporter": "python",
   "pygments_lexer": "ipython3",
   "version": "3.7.4"
  }
 },
 "nbformat": 4,
 "nbformat_minor": 4
}
