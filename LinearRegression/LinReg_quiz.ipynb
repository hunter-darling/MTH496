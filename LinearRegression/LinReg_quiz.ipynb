{
 "cells": [
  {
   "cell_type": "code",
   "execution_count": null,
   "metadata": {
    "jupyter": {
     "source_hidden": true
    }
   },
   "outputs": [],
   "source": [
    "# Author: Hunter Darling, MTH-496 Quiz 1 - Linear Regression"
   ]
  },
  {
   "cell_type": "code",
   "execution_count": 1,
   "metadata": {},
   "outputs": [],
   "source": [
    "import numpy as np # math calculations and other matrix, vector calculations\n",
    "import pandas as pd # dataframe organization\n",
    "import seaborn as sns # for plotting\n",
    "import matplotlib.pyplot as plt # for plotting\n",
    "from sklearn.linear_model import LinearRegression\n",
    "from sklearn.metrics import mean_squared_error\n",
    "from sklearn.preprocessing import LabelEncoder"
   ]
  },
  {
   "cell_type": "code",
   "execution_count": 39,
   "metadata": {},
   "outputs": [],
   "source": [
    "# load training data\n",
    "df_train = pd.read_csv('data/nyc_sales_training.csv')\n",
    "# load test data\n",
    "df_test = pd.read_csv('data/nyc_sales_test.csv')"
   ]
  },
  {
   "cell_type": "code",
   "execution_count": 3,
   "metadata": {},
   "outputs": [
    {
     "data": {
      "text/html": [
       "<div>\n",
       "<style scoped>\n",
       "    .dataframe tbody tr th:only-of-type {\n",
       "        vertical-align: middle;\n",
       "    }\n",
       "\n",
       "    .dataframe tbody tr th {\n",
       "        vertical-align: top;\n",
       "    }\n",
       "\n",
       "    .dataframe thead th {\n",
       "        text-align: right;\n",
       "    }\n",
       "</style>\n",
       "<table border=\"1\" class=\"dataframe\">\n",
       "  <thead>\n",
       "    <tr style=\"text-align: right;\">\n",
       "      <th></th>\n",
       "      <th>BOROUGH</th>\n",
       "      <th>NEIGHBORHOOD</th>\n",
       "      <th>BUILDING_CLASS_CAT</th>\n",
       "      <th>TAX_CLASS</th>\n",
       "      <th>BLOCK</th>\n",
       "      <th>LOT</th>\n",
       "      <th>EASE-MENT</th>\n",
       "      <th>BUILDING_CLASS</th>\n",
       "      <th>ADDRESS</th>\n",
       "      <th>APARTMENT_NUM</th>\n",
       "      <th>...</th>\n",
       "      <th>RESIDENTIAL_UNITS</th>\n",
       "      <th>COMMERCIAL_UNITS</th>\n",
       "      <th>TOTAL_UNITS</th>\n",
       "      <th>LAND_SQUARE_FEET</th>\n",
       "      <th>GROSS_SQUARE_FEET</th>\n",
       "      <th>YEAR_BUILT</th>\n",
       "      <th>TAX_CLASS_AT_TIME_OF_SALE</th>\n",
       "      <th>BUILDING_CLASS_AT_TIME_OF_SALE</th>\n",
       "      <th>SALE_PRICE</th>\n",
       "      <th>SALE_DATE</th>\n",
       "    </tr>\n",
       "  </thead>\n",
       "  <tbody>\n",
       "    <tr>\n",
       "      <td>0</td>\n",
       "      <td>3</td>\n",
       "      <td>BENSONHURST</td>\n",
       "      <td>02 TWO FAMILY DWELLINGS</td>\n",
       "      <td>1</td>\n",
       "      <td>6201</td>\n",
       "      <td>18</td>\n",
       "      <td></td>\n",
       "      <td>B3</td>\n",
       "      <td>1426 73RD STREET</td>\n",
       "      <td></td>\n",
       "      <td>...</td>\n",
       "      <td>2</td>\n",
       "      <td>0</td>\n",
       "      <td>2</td>\n",
       "      <td>3000.0</td>\n",
       "      <td>1478.0</td>\n",
       "      <td>1925</td>\n",
       "      <td>1</td>\n",
       "      <td>B3</td>\n",
       "      <td>0.0</td>\n",
       "      <td>5/3/2017 0:00</td>\n",
       "    </tr>\n",
       "    <tr>\n",
       "      <td>1</td>\n",
       "      <td>1</td>\n",
       "      <td>ROOSEVELT ISLAND</td>\n",
       "      <td>17 CONDO COOPS</td>\n",
       "      <td>2</td>\n",
       "      <td>1373</td>\n",
       "      <td>1901</td>\n",
       "      <td></td>\n",
       "      <td>R9</td>\n",
       "      <td>551 MAIN STREET, RES</td>\n",
       "      <td></td>\n",
       "      <td>...</td>\n",
       "      <td>0</td>\n",
       "      <td>0</td>\n",
       "      <td>0</td>\n",
       "      <td>NaN</td>\n",
       "      <td>NaN</td>\n",
       "      <td>1975</td>\n",
       "      <td>2</td>\n",
       "      <td>R9</td>\n",
       "      <td>786315.0</td>\n",
       "      <td>12/12/2016 0:00</td>\n",
       "    </tr>\n",
       "    <tr>\n",
       "      <td>2</td>\n",
       "      <td>2</td>\n",
       "      <td>RIVERDALE</td>\n",
       "      <td>10 COOPS - ELEVATOR APARTMENTS</td>\n",
       "      <td>2</td>\n",
       "      <td>5920</td>\n",
       "      <td>510</td>\n",
       "      <td></td>\n",
       "      <td>D4</td>\n",
       "      <td>679 WEST 239TH STREET, 6H</td>\n",
       "      <td></td>\n",
       "      <td>...</td>\n",
       "      <td>0</td>\n",
       "      <td>0</td>\n",
       "      <td>0</td>\n",
       "      <td>0.0</td>\n",
       "      <td>0.0</td>\n",
       "      <td>1960</td>\n",
       "      <td>2</td>\n",
       "      <td>D4</td>\n",
       "      <td>309000.0</td>\n",
       "      <td>12/29/2016 0:00</td>\n",
       "    </tr>\n",
       "    <tr>\n",
       "      <td>3</td>\n",
       "      <td>1</td>\n",
       "      <td>UPPER EAST SIDE (59-79)</td>\n",
       "      <td>10 COOPS - ELEVATOR APARTMENTS</td>\n",
       "      <td>2</td>\n",
       "      <td>1421</td>\n",
       "      <td>1</td>\n",
       "      <td></td>\n",
       "      <td>D4</td>\n",
       "      <td>201 EAST 66 STREET, 2N</td>\n",
       "      <td></td>\n",
       "      <td>...</td>\n",
       "      <td>0</td>\n",
       "      <td>0</td>\n",
       "      <td>0</td>\n",
       "      <td>NaN</td>\n",
       "      <td>NaN</td>\n",
       "      <td>1961</td>\n",
       "      <td>2</td>\n",
       "      <td>D4</td>\n",
       "      <td>575000.0</td>\n",
       "      <td>11/7/2016 0:00</td>\n",
       "    </tr>\n",
       "    <tr>\n",
       "      <td>4</td>\n",
       "      <td>1</td>\n",
       "      <td>HARLEM-CENTRAL</td>\n",
       "      <td>07 RENTALS - WALKUP APARTMENTS</td>\n",
       "      <td>2B</td>\n",
       "      <td>1949</td>\n",
       "      <td>59</td>\n",
       "      <td></td>\n",
       "      <td>C5</td>\n",
       "      <td>358 WEST 123 STREET</td>\n",
       "      <td></td>\n",
       "      <td>...</td>\n",
       "      <td>9</td>\n",
       "      <td>0</td>\n",
       "      <td>9</td>\n",
       "      <td>1615.0</td>\n",
       "      <td>2973.0</td>\n",
       "      <td>1900</td>\n",
       "      <td>2</td>\n",
       "      <td>C5</td>\n",
       "      <td>1193000.0</td>\n",
       "      <td>11/8/2016 0:00</td>\n",
       "    </tr>\n",
       "  </tbody>\n",
       "</table>\n",
       "<p>5 rows × 21 columns</p>\n",
       "</div>"
      ],
      "text/plain": [
       "   BOROUGH             NEIGHBORHOOD  \\\n",
       "0        3              BENSONHURST   \n",
       "1        1         ROOSEVELT ISLAND   \n",
       "2        2                RIVERDALE   \n",
       "3        1  UPPER EAST SIDE (59-79)   \n",
       "4        1           HARLEM-CENTRAL   \n",
       "\n",
       "                            BUILDING_CLASS_CAT TAX_CLASS  BLOCK   LOT  \\\n",
       "0  02 TWO FAMILY DWELLINGS                             1   6201    18   \n",
       "1  17 CONDO COOPS                                      2   1373  1901   \n",
       "2  10 COOPS - ELEVATOR APARTMENTS                      2   5920   510   \n",
       "3  10 COOPS - ELEVATOR APARTMENTS                      2   1421     1   \n",
       "4  07 RENTALS - WALKUP APARTMENTS                     2B   1949    59   \n",
       "\n",
       "  EASE-MENT BUILDING_CLASS                    ADDRESS APARTMENT_NUM  ...  \\\n",
       "0                       B3           1426 73RD STREET                ...   \n",
       "1                       R9       551 MAIN STREET, RES                ...   \n",
       "2                       D4  679 WEST 239TH STREET, 6H                ...   \n",
       "3                       D4     201 EAST 66 STREET, 2N                ...   \n",
       "4                       C5        358 WEST 123 STREET                ...   \n",
       "\n",
       "   RESIDENTIAL_UNITS  COMMERCIAL_UNITS  TOTAL_UNITS  LAND_SQUARE_FEET  \\\n",
       "0                  2                 0            2            3000.0   \n",
       "1                  0                 0            0               NaN   \n",
       "2                  0                 0            0               0.0   \n",
       "3                  0                 0            0               NaN   \n",
       "4                  9                 0            9            1615.0   \n",
       "\n",
       "   GROSS_SQUARE_FEET  YEAR_BUILT  TAX_CLASS_AT_TIME_OF_SALE  \\\n",
       "0             1478.0        1925                          1   \n",
       "1                NaN        1975                          2   \n",
       "2                0.0        1960                          2   \n",
       "3                NaN        1961                          2   \n",
       "4             2973.0        1900                          2   \n",
       "\n",
       "   BUILDING_CLASS_AT_TIME_OF_SALE SALE_PRICE        SALE_DATE  \n",
       "0                              B3        0.0    5/3/2017 0:00  \n",
       "1                              R9   786315.0  12/12/2016 0:00  \n",
       "2                              D4   309000.0  12/29/2016 0:00  \n",
       "3                              D4   575000.0   11/7/2016 0:00  \n",
       "4                              C5  1193000.0   11/8/2016 0:00  \n",
       "\n",
       "[5 rows x 21 columns]"
      ]
     },
     "execution_count": 3,
     "metadata": {},
     "output_type": "execute_result"
    }
   ],
   "source": [
    "df_train.head()"
   ]
  },
  {
   "cell_type": "code",
   "execution_count": 5,
   "metadata": {},
   "outputs": [
    {
     "data": {
      "text/html": [
       "<div>\n",
       "<style scoped>\n",
       "    .dataframe tbody tr th:only-of-type {\n",
       "        vertical-align: middle;\n",
       "    }\n",
       "\n",
       "    .dataframe tbody tr th {\n",
       "        vertical-align: top;\n",
       "    }\n",
       "\n",
       "    .dataframe thead th {\n",
       "        text-align: right;\n",
       "    }\n",
       "</style>\n",
       "<table border=\"1\" class=\"dataframe\">\n",
       "  <thead>\n",
       "    <tr style=\"text-align: right;\">\n",
       "      <th></th>\n",
       "      <th>BOROUGH</th>\n",
       "      <th>NEIGHBORHOOD</th>\n",
       "      <th>BUILDING_CLASS_CAT</th>\n",
       "      <th>TAX_CLASS</th>\n",
       "      <th>BLOCK</th>\n",
       "      <th>LOT</th>\n",
       "      <th>EASE-MENT</th>\n",
       "      <th>BUILDING_CLASS</th>\n",
       "      <th>ADDRESS</th>\n",
       "      <th>APARTMENT_NUM</th>\n",
       "      <th>ZIPCODE</th>\n",
       "      <th>RESIDENTIAL_UNITS</th>\n",
       "      <th>COMMERCIAL_UNITS</th>\n",
       "      <th>TOTAL_UNITS</th>\n",
       "      <th>LAND_SQUARE_FEET</th>\n",
       "      <th>GROSS_SQUARE_FEET</th>\n",
       "      <th>YEAR_BUILT</th>\n",
       "      <th>TAX_CLASS_AT_TIME_OF_SALE</th>\n",
       "      <th>BUILDING_CLASS_AT_TIME_OF_SALE</th>\n",
       "      <th>SALE_DATE</th>\n",
       "    </tr>\n",
       "  </thead>\n",
       "  <tbody>\n",
       "    <tr>\n",
       "      <td>0</td>\n",
       "      <td>2</td>\n",
       "      <td>CITY ISLAND</td>\n",
       "      <td>29 COMMERCIAL GARAGES</td>\n",
       "      <td>4</td>\n",
       "      <td>5634</td>\n",
       "      <td>1</td>\n",
       "      <td></td>\n",
       "      <td>G7</td>\n",
       "      <td>499 CITY ISLAND AVE</td>\n",
       "      <td></td>\n",
       "      <td>10464</td>\n",
       "      <td>0</td>\n",
       "      <td>0</td>\n",
       "      <td>0</td>\n",
       "      <td>17910.0</td>\n",
       "      <td>0.0</td>\n",
       "      <td>0</td>\n",
       "      <td>4</td>\n",
       "      <td>G7</td>\n",
       "      <td>5/16/2017 0:00</td>\n",
       "    </tr>\n",
       "    <tr>\n",
       "      <td>1</td>\n",
       "      <td>1</td>\n",
       "      <td>GRAMERCY</td>\n",
       "      <td>10 COOPS - ELEVATOR APARTMENTS</td>\n",
       "      <td>2</td>\n",
       "      <td>877</td>\n",
       "      <td>42</td>\n",
       "      <td></td>\n",
       "      <td>D4</td>\n",
       "      <td>39 GRAMERCY PARK NORTH, 10D</td>\n",
       "      <td></td>\n",
       "      <td>10010</td>\n",
       "      <td>0</td>\n",
       "      <td>0</td>\n",
       "      <td>0</td>\n",
       "      <td>NaN</td>\n",
       "      <td>NaN</td>\n",
       "      <td>1956</td>\n",
       "      <td>2</td>\n",
       "      <td>D4</td>\n",
       "      <td>5/16/2017 0:00</td>\n",
       "    </tr>\n",
       "    <tr>\n",
       "      <td>2</td>\n",
       "      <td>1</td>\n",
       "      <td>CIVIC CENTER</td>\n",
       "      <td>13 CONDOS - ELEVATOR APARTMENTS</td>\n",
       "      <td>2</td>\n",
       "      <td>134</td>\n",
       "      <td>1475</td>\n",
       "      <td></td>\n",
       "      <td>R4</td>\n",
       "      <td>25 MURRAY STREET</td>\n",
       "      <td>9C</td>\n",
       "      <td>10007</td>\n",
       "      <td>1</td>\n",
       "      <td>0</td>\n",
       "      <td>1</td>\n",
       "      <td>NaN</td>\n",
       "      <td>NaN</td>\n",
       "      <td>1930</td>\n",
       "      <td>2</td>\n",
       "      <td>R4</td>\n",
       "      <td>5/12/2017 0:00</td>\n",
       "    </tr>\n",
       "    <tr>\n",
       "      <td>3</td>\n",
       "      <td>1</td>\n",
       "      <td>CHELSEA</td>\n",
       "      <td>13 CONDOS - ELEVATOR APARTMENTS</td>\n",
       "      <td>2</td>\n",
       "      <td>797</td>\n",
       "      <td>1805</td>\n",
       "      <td></td>\n",
       "      <td>R4</td>\n",
       "      <td>151 WEST 21ST   STREET</td>\n",
       "      <td>2C</td>\n",
       "      <td>10011</td>\n",
       "      <td>1</td>\n",
       "      <td>0</td>\n",
       "      <td>1</td>\n",
       "      <td>NaN</td>\n",
       "      <td>NaN</td>\n",
       "      <td>2012</td>\n",
       "      <td>2</td>\n",
       "      <td>R4</td>\n",
       "      <td>4/27/2017 0:00</td>\n",
       "    </tr>\n",
       "    <tr>\n",
       "      <td>4</td>\n",
       "      <td>2</td>\n",
       "      <td>MORRISANIA/LONGWOOD</td>\n",
       "      <td>03 THREE FAMILY DWELLINGS</td>\n",
       "      <td>1</td>\n",
       "      <td>2724</td>\n",
       "      <td>218</td>\n",
       "      <td></td>\n",
       "      <td>C0</td>\n",
       "      <td>988 FOX STREET</td>\n",
       "      <td></td>\n",
       "      <td>10459</td>\n",
       "      <td>3</td>\n",
       "      <td>0</td>\n",
       "      <td>3</td>\n",
       "      <td>3702.0</td>\n",
       "      <td>3024.0</td>\n",
       "      <td>1995</td>\n",
       "      <td>1</td>\n",
       "      <td>C0</td>\n",
       "      <td>9/9/2016 0:00</td>\n",
       "    </tr>\n",
       "  </tbody>\n",
       "</table>\n",
       "</div>"
      ],
      "text/plain": [
       "   BOROUGH         NEIGHBORHOOD                           BUILDING_CLASS_CAT  \\\n",
       "0        2          CITY ISLAND  29 COMMERCIAL GARAGES                         \n",
       "1        1             GRAMERCY  10 COOPS - ELEVATOR APARTMENTS                \n",
       "2        1         CIVIC CENTER  13 CONDOS - ELEVATOR APARTMENTS               \n",
       "3        1              CHELSEA  13 CONDOS - ELEVATOR APARTMENTS               \n",
       "4        2  MORRISANIA/LONGWOOD  03 THREE FAMILY DWELLINGS                     \n",
       "\n",
       "  TAX_CLASS  BLOCK   LOT EASE-MENT BUILDING_CLASS  \\\n",
       "0         4   5634     1                       G7   \n",
       "1         2    877    42                       D4   \n",
       "2         2    134  1475                       R4   \n",
       "3         2    797  1805                       R4   \n",
       "4         1   2724   218                       C0   \n",
       "\n",
       "                       ADDRESS APARTMENT_NUM  ZIPCODE  RESIDENTIAL_UNITS  \\\n",
       "0          499 CITY ISLAND AVE                  10464                  0   \n",
       "1  39 GRAMERCY PARK NORTH, 10D                  10010                  0   \n",
       "2             25 MURRAY STREET            9C    10007                  1   \n",
       "3       151 WEST 21ST   STREET            2C    10011                  1   \n",
       "4               988 FOX STREET                  10459                  3   \n",
       "\n",
       "   COMMERCIAL_UNITS  TOTAL_UNITS  LAND_SQUARE_FEET  GROSS_SQUARE_FEET  \\\n",
       "0                 0            0           17910.0                0.0   \n",
       "1                 0            0               NaN                NaN   \n",
       "2                 0            1               NaN                NaN   \n",
       "3                 0            1               NaN                NaN   \n",
       "4                 0            3            3702.0             3024.0   \n",
       "\n",
       "   YEAR_BUILT  TAX_CLASS_AT_TIME_OF_SALE BUILDING_CLASS_AT_TIME_OF_SALE  \\\n",
       "0           0                          4                             G7   \n",
       "1        1956                          2                             D4   \n",
       "2        1930                          2                             R4   \n",
       "3        2012                          2                             R4   \n",
       "4        1995                          1                             C0   \n",
       "\n",
       "        SALE_DATE  \n",
       "0  5/16/2017 0:00  \n",
       "1  5/16/2017 0:00  \n",
       "2  5/12/2017 0:00  \n",
       "3  4/27/2017 0:00  \n",
       "4   9/9/2016 0:00  "
      ]
     },
     "execution_count": 5,
     "metadata": {},
     "output_type": "execute_result"
    }
   ],
   "source": [
    "df_test.head()"
   ]
  },
  {
   "cell_type": "code",
   "execution_count": 7,
   "metadata": {},
   "outputs": [
    {
     "data": {
      "text/plain": [
       "(17509, 21)"
      ]
     },
     "execution_count": 7,
     "metadata": {},
     "output_type": "execute_result"
    }
   ],
   "source": [
    "df_train.shape"
   ]
  },
  {
   "cell_type": "code",
   "execution_count": 8,
   "metadata": {},
   "outputs": [
    {
     "data": {
      "text/plain": [
       "(8624, 20)"
      ]
     },
     "execution_count": 8,
     "metadata": {},
     "output_type": "execute_result"
    }
   ],
   "source": [
    "df_test.shape"
   ]
  },
  {
   "cell_type": "code",
   "execution_count": 40,
   "metadata": {},
   "outputs": [
    {
     "name": "stdout",
     "output_type": "stream",
     "text": [
      "<class 'pandas.core.frame.DataFrame'>\n",
      "RangeIndex: 17509 entries, 0 to 17508\n",
      "Data columns (total 21 columns):\n",
      "BOROUGH                           17509 non-null int64\n",
      "NEIGHBORHOOD                      17509 non-null object\n",
      "BUILDING_CLASS_CAT                17509 non-null object\n",
      "TAX_CLASS                         17509 non-null object\n",
      "BLOCK                             17509 non-null int64\n",
      "LOT                               17509 non-null int64\n",
      "EASE-MENT                         17509 non-null object\n",
      "BUILDING_CLASS                    17509 non-null object\n",
      "ADDRESS                           17509 non-null object\n",
      "APARTMENT_NUM                     17509 non-null object\n",
      "ZIPCODE                           17509 non-null int64\n",
      "RESIDENTIAL_UNITS                 17509 non-null int64\n",
      "COMMERCIAL_UNITS                  17509 non-null int64\n",
      "TOTAL_UNITS                       17509 non-null int64\n",
      "LAND_SQUARE_FEET                  8509 non-null float64\n",
      "GROSS_SQUARE_FEET                 8485 non-null float64\n",
      "YEAR_BUILT                        17509 non-null int64\n",
      "TAX_CLASS_AT_TIME_OF_SALE         17509 non-null int64\n",
      "BUILDING_CLASS_AT_TIME_OF_SALE    17509 non-null object\n",
      "SALE_PRICE                        17509 non-null float64\n",
      "SALE_DATE                         17509 non-null object\n",
      "dtypes: float64(3), int64(9), object(9)\n",
      "memory usage: 2.8+ MB\n"
     ]
    }
   ],
   "source": [
    "df_train.info()"
   ]
  },
  {
   "cell_type": "code",
   "execution_count": 41,
   "metadata": {},
   "outputs": [
    {
     "name": "stdout",
     "output_type": "stream",
     "text": [
      "<class 'pandas.core.frame.DataFrame'>\n",
      "RangeIndex: 8624 entries, 0 to 8623\n",
      "Data columns (total 20 columns):\n",
      "BOROUGH                           8624 non-null int64\n",
      "NEIGHBORHOOD                      8624 non-null object\n",
      "BUILDING_CLASS_CAT                8624 non-null object\n",
      "TAX_CLASS                         8624 non-null object\n",
      "BLOCK                             8624 non-null int64\n",
      "LOT                               8624 non-null int64\n",
      "EASE-MENT                         8624 non-null object\n",
      "BUILDING_CLASS                    8624 non-null object\n",
      "ADDRESS                           8624 non-null object\n",
      "APARTMENT_NUM                     8624 non-null object\n",
      "ZIPCODE                           8624 non-null int64\n",
      "RESIDENTIAL_UNITS                 8624 non-null int64\n",
      "COMMERCIAL_UNITS                  8624 non-null int64\n",
      "TOTAL_UNITS                       8624 non-null int64\n",
      "LAND_SQUARE_FEET                  4235 non-null float64\n",
      "GROSS_SQUARE_FEET                 4219 non-null float64\n",
      "YEAR_BUILT                        8624 non-null int64\n",
      "TAX_CLASS_AT_TIME_OF_SALE         8624 non-null int64\n",
      "BUILDING_CLASS_AT_TIME_OF_SALE    8624 non-null object\n",
      "SALE_DATE                         8624 non-null object\n",
      "dtypes: float64(2), int64(9), object(9)\n",
      "memory usage: 1.3+ MB\n"
     ]
    }
   ],
   "source": [
    "df_test.info()"
   ]
  },
  {
   "cell_type": "code",
   "execution_count": 42,
   "metadata": {},
   "outputs": [
    {
     "data": {
      "text/plain": [
       "BOROUGH                              0\n",
       "NEIGHBORHOOD                         0\n",
       "BUILDING_CLASS_CAT                   0\n",
       "TAX_CLASS                            0\n",
       "BLOCK                                0\n",
       "LOT                                  0\n",
       "EASE-MENT                            0\n",
       "BUILDING_CLASS                       0\n",
       "ADDRESS                              0\n",
       "APARTMENT_NUM                        0\n",
       "ZIPCODE                              0\n",
       "RESIDENTIAL_UNITS                    0\n",
       "COMMERCIAL_UNITS                     0\n",
       "TOTAL_UNITS                          0\n",
       "LAND_SQUARE_FEET                  9000\n",
       "GROSS_SQUARE_FEET                 9024\n",
       "YEAR_BUILT                           0\n",
       "TAX_CLASS_AT_TIME_OF_SALE            0\n",
       "BUILDING_CLASS_AT_TIME_OF_SALE       0\n",
       "SALE_PRICE                           0\n",
       "SALE_DATE                            0\n",
       "dtype: int64"
      ]
     },
     "execution_count": 42,
     "metadata": {},
     "output_type": "execute_result"
    }
   ],
   "source": [
    "df_train.isnull().sum()"
   ]
  },
  {
   "cell_type": "code",
   "execution_count": 61,
   "metadata": {},
   "outputs": [
    {
     "data": {
      "text/plain": [
       "BOROUGH                              0\n",
       "NEIGHBORHOOD                         0\n",
       "BUILDING_CLASS_CAT                   0\n",
       "TAX_CLASS                            0\n",
       "BLOCK                                0\n",
       "LOT                                  0\n",
       "EASE-MENT                            0\n",
       "BUILDING_CLASS                       0\n",
       "ADDRESS                              0\n",
       "APARTMENT_NUM                        0\n",
       "ZIPCODE                              0\n",
       "RESIDENTIAL_UNITS                    0\n",
       "COMMERCIAL_UNITS                     0\n",
       "TOTAL_UNITS                          0\n",
       "LAND_SQUARE_FEET                  4389\n",
       "GROSS_SQUARE_FEET                 4405\n",
       "YEAR_BUILT                           0\n",
       "TAX_CLASS_AT_TIME_OF_SALE            0\n",
       "BUILDING_CLASS_AT_TIME_OF_SALE       0\n",
       "SALE_DATE                            0\n",
       "dtype: int64"
      ]
     },
     "execution_count": 61,
     "metadata": {},
     "output_type": "execute_result"
    }
   ],
   "source": [
    "df_test.isnull().sum()"
   ]
  },
  {
   "cell_type": "code",
   "execution_count": 60,
   "metadata": {},
   "outputs": [
    {
     "name": "stdout",
     "output_type": "stream",
     "text": [
      "<class 'pandas.core.frame.DataFrame'>\n",
      "RangeIndex: 17509 entries, 0 to 17508\n",
      "Data columns (total 21 columns):\n",
      "BOROUGH                           17509 non-null int64\n",
      "NEIGHBORHOOD                      17509 non-null object\n",
      "BUILDING_CLASS_CAT                17509 non-null object\n",
      "TAX_CLASS                         17509 non-null object\n",
      "BLOCK                             17509 non-null int64\n",
      "LOT                               17509 non-null int64\n",
      "EASE-MENT                         17509 non-null object\n",
      "BUILDING_CLASS                    17509 non-null object\n",
      "ADDRESS                           17509 non-null object\n",
      "APARTMENT_NUM                     17509 non-null object\n",
      "ZIPCODE                           17509 non-null int64\n",
      "RESIDENTIAL_UNITS                 17509 non-null int64\n",
      "COMMERCIAL_UNITS                  17509 non-null int64\n",
      "TOTAL_UNITS                       17509 non-null int64\n",
      "LAND_SQUARE_FEET                  8509 non-null float64\n",
      "GROSS_SQUARE_FEET                 8485 non-null float64\n",
      "YEAR_BUILT                        17509 non-null int64\n",
      "TAX_CLASS_AT_TIME_OF_SALE         17509 non-null int64\n",
      "BUILDING_CLASS_AT_TIME_OF_SALE    17509 non-null object\n",
      "SALE_PRICE                        17509 non-null float64\n",
      "SALE_DATE                         17509 non-null object\n",
      "dtypes: float64(3), int64(9), object(9)\n",
      "memory usage: 2.8+ MB\n"
     ]
    }
   ],
   "source": [
    "df_train.info()"
   ]
  },
  {
   "cell_type": "code",
   "execution_count": 66,
   "metadata": {},
   "outputs": [],
   "source": [
    "df_train_fixed = df_train.drop(['NEIGHBORHOOD','BUILDING_CLASS_CAT','TAX_CLASS','BUILDING_CLASS','EASE-MENT',\n",
    "                                'ADDRESS','APARTMENT_NUM','BUILDING_CLASS_AT_TIME_OF_SALE','GROSS_SQUARE_FEET',\n",
    "                                'LAND_SQUARE_FEET','SALE_PRICE','SALE_DATE'],axis=1)\n",
    "df_test_fixed = df_test.drop(['NEIGHBORHOOD','BUILDING_CLASS_CAT','TAX_CLASS','BUILDING_CLASS','EASE-MENT',\n",
    "                                'ADDRESS','APARTMENT_NUM','BUILDING_CLASS_AT_TIME_OF_SALE','GROSS_SQUARE_FEET',\n",
    "                                'LAND_SQUARE_FEET','SALE_DATE'],axis=1)\n",
    "y_train = df_train['SALE_PRICE']"
   ]
  },
  {
   "cell_type": "code",
   "execution_count": 64,
   "metadata": {},
   "outputs": [
    {
     "name": "stdout",
     "output_type": "stream",
     "text": [
      "<class 'pandas.core.frame.DataFrame'>\n",
      "RangeIndex: 17509 entries, 0 to 17508\n",
      "Data columns (total 9 columns):\n",
      "BOROUGH                      17509 non-null int64\n",
      "BLOCK                        17509 non-null int64\n",
      "LOT                          17509 non-null int64\n",
      "ZIPCODE                      17509 non-null int64\n",
      "RESIDENTIAL_UNITS            17509 non-null int64\n",
      "COMMERCIAL_UNITS             17509 non-null int64\n",
      "TOTAL_UNITS                  17509 non-null int64\n",
      "YEAR_BUILT                   17509 non-null int64\n",
      "TAX_CLASS_AT_TIME_OF_SALE    17509 non-null int64\n",
      "dtypes: int64(9)\n",
      "memory usage: 1.2 MB\n"
     ]
    }
   ],
   "source": [
    "df_train_fixed.info()"
   ]
  },
  {
   "cell_type": "code",
   "execution_count": 68,
   "metadata": {},
   "outputs": [
    {
     "name": "stdout",
     "output_type": "stream",
     "text": [
      "<class 'pandas.core.frame.DataFrame'>\n",
      "RangeIndex: 8624 entries, 0 to 8623\n",
      "Data columns (total 9 columns):\n",
      "BOROUGH                      8624 non-null int64\n",
      "BLOCK                        8624 non-null int64\n",
      "LOT                          8624 non-null int64\n",
      "ZIPCODE                      8624 non-null int64\n",
      "RESIDENTIAL_UNITS            8624 non-null int64\n",
      "COMMERCIAL_UNITS             8624 non-null int64\n",
      "TOTAL_UNITS                  8624 non-null int64\n",
      "YEAR_BUILT                   8624 non-null int64\n",
      "TAX_CLASS_AT_TIME_OF_SALE    8624 non-null int64\n",
      "dtypes: int64(9)\n",
      "memory usage: 606.5 KB\n"
     ]
    }
   ],
   "source": [
    "df_test_fixed.info()"
   ]
  },
  {
   "cell_type": "code",
   "execution_count": 69,
   "metadata": {},
   "outputs": [],
   "source": [
    "X_train = df_train_fixed\n",
    "X_test = df_test_fixed"
   ]
  },
  {
   "cell_type": "code",
   "execution_count": 70,
   "metadata": {},
   "outputs": [
    {
     "data": {
      "text/plain": [
       "17509"
      ]
     },
     "execution_count": 70,
     "metadata": {},
     "output_type": "execute_result"
    }
   ],
   "source": [
    "y_train.size"
   ]
  },
  {
   "cell_type": "code",
   "execution_count": 71,
   "metadata": {},
   "outputs": [
    {
     "data": {
      "text/html": [
       "<div>\n",
       "<style scoped>\n",
       "    .dataframe tbody tr th:only-of-type {\n",
       "        vertical-align: middle;\n",
       "    }\n",
       "\n",
       "    .dataframe tbody tr th {\n",
       "        vertical-align: top;\n",
       "    }\n",
       "\n",
       "    .dataframe thead th {\n",
       "        text-align: right;\n",
       "    }\n",
       "</style>\n",
       "<table border=\"1\" class=\"dataframe\">\n",
       "  <thead>\n",
       "    <tr style=\"text-align: right;\">\n",
       "      <th></th>\n",
       "      <th>BOROUGH</th>\n",
       "      <th>BLOCK</th>\n",
       "      <th>LOT</th>\n",
       "      <th>ZIPCODE</th>\n",
       "      <th>RESIDENTIAL_UNITS</th>\n",
       "      <th>COMMERCIAL_UNITS</th>\n",
       "      <th>TOTAL_UNITS</th>\n",
       "      <th>YEAR_BUILT</th>\n",
       "      <th>TAX_CLASS_AT_TIME_OF_SALE</th>\n",
       "    </tr>\n",
       "  </thead>\n",
       "  <tbody>\n",
       "    <tr>\n",
       "      <td>0</td>\n",
       "      <td>3</td>\n",
       "      <td>6201</td>\n",
       "      <td>18</td>\n",
       "      <td>11228</td>\n",
       "      <td>2</td>\n",
       "      <td>0</td>\n",
       "      <td>2</td>\n",
       "      <td>1925</td>\n",
       "      <td>1</td>\n",
       "    </tr>\n",
       "    <tr>\n",
       "      <td>1</td>\n",
       "      <td>1</td>\n",
       "      <td>1373</td>\n",
       "      <td>1901</td>\n",
       "      <td>10044</td>\n",
       "      <td>0</td>\n",
       "      <td>0</td>\n",
       "      <td>0</td>\n",
       "      <td>1975</td>\n",
       "      <td>2</td>\n",
       "    </tr>\n",
       "    <tr>\n",
       "      <td>2</td>\n",
       "      <td>2</td>\n",
       "      <td>5920</td>\n",
       "      <td>510</td>\n",
       "      <td>10463</td>\n",
       "      <td>0</td>\n",
       "      <td>0</td>\n",
       "      <td>0</td>\n",
       "      <td>1960</td>\n",
       "      <td>2</td>\n",
       "    </tr>\n",
       "    <tr>\n",
       "      <td>3</td>\n",
       "      <td>1</td>\n",
       "      <td>1421</td>\n",
       "      <td>1</td>\n",
       "      <td>10065</td>\n",
       "      <td>0</td>\n",
       "      <td>0</td>\n",
       "      <td>0</td>\n",
       "      <td>1961</td>\n",
       "      <td>2</td>\n",
       "    </tr>\n",
       "    <tr>\n",
       "      <td>4</td>\n",
       "      <td>1</td>\n",
       "      <td>1949</td>\n",
       "      <td>59</td>\n",
       "      <td>10027</td>\n",
       "      <td>9</td>\n",
       "      <td>0</td>\n",
       "      <td>9</td>\n",
       "      <td>1900</td>\n",
       "      <td>2</td>\n",
       "    </tr>\n",
       "  </tbody>\n",
       "</table>\n",
       "</div>"
      ],
      "text/plain": [
       "   BOROUGH  BLOCK   LOT  ZIPCODE  RESIDENTIAL_UNITS  COMMERCIAL_UNITS  \\\n",
       "0        3   6201    18    11228                  2                 0   \n",
       "1        1   1373  1901    10044                  0                 0   \n",
       "2        2   5920   510    10463                  0                 0   \n",
       "3        1   1421     1    10065                  0                 0   \n",
       "4        1   1949    59    10027                  9                 0   \n",
       "\n",
       "   TOTAL_UNITS  YEAR_BUILT  TAX_CLASS_AT_TIME_OF_SALE  \n",
       "0            2        1925                          1  \n",
       "1            0        1975                          2  \n",
       "2            0        1960                          2  \n",
       "3            0        1961                          2  \n",
       "4            9        1900                          2  "
      ]
     },
     "execution_count": 71,
     "metadata": {},
     "output_type": "execute_result"
    }
   ],
   "source": [
    "X_train.head()"
   ]
  },
  {
   "cell_type": "code",
   "execution_count": 72,
   "metadata": {},
   "outputs": [
    {
     "data": {
      "text/html": [
       "<div>\n",
       "<style scoped>\n",
       "    .dataframe tbody tr th:only-of-type {\n",
       "        vertical-align: middle;\n",
       "    }\n",
       "\n",
       "    .dataframe tbody tr th {\n",
       "        vertical-align: top;\n",
       "    }\n",
       "\n",
       "    .dataframe thead th {\n",
       "        text-align: right;\n",
       "    }\n",
       "</style>\n",
       "<table border=\"1\" class=\"dataframe\">\n",
       "  <thead>\n",
       "    <tr style=\"text-align: right;\">\n",
       "      <th></th>\n",
       "      <th>BOROUGH</th>\n",
       "      <th>BLOCK</th>\n",
       "      <th>LOT</th>\n",
       "      <th>ZIPCODE</th>\n",
       "      <th>RESIDENTIAL_UNITS</th>\n",
       "      <th>COMMERCIAL_UNITS</th>\n",
       "      <th>TOTAL_UNITS</th>\n",
       "      <th>YEAR_BUILT</th>\n",
       "      <th>TAX_CLASS_AT_TIME_OF_SALE</th>\n",
       "    </tr>\n",
       "  </thead>\n",
       "  <tbody>\n",
       "    <tr>\n",
       "      <td>0</td>\n",
       "      <td>2</td>\n",
       "      <td>5634</td>\n",
       "      <td>1</td>\n",
       "      <td>10464</td>\n",
       "      <td>0</td>\n",
       "      <td>0</td>\n",
       "      <td>0</td>\n",
       "      <td>0</td>\n",
       "      <td>4</td>\n",
       "    </tr>\n",
       "    <tr>\n",
       "      <td>1</td>\n",
       "      <td>1</td>\n",
       "      <td>877</td>\n",
       "      <td>42</td>\n",
       "      <td>10010</td>\n",
       "      <td>0</td>\n",
       "      <td>0</td>\n",
       "      <td>0</td>\n",
       "      <td>1956</td>\n",
       "      <td>2</td>\n",
       "    </tr>\n",
       "    <tr>\n",
       "      <td>2</td>\n",
       "      <td>1</td>\n",
       "      <td>134</td>\n",
       "      <td>1475</td>\n",
       "      <td>10007</td>\n",
       "      <td>1</td>\n",
       "      <td>0</td>\n",
       "      <td>1</td>\n",
       "      <td>1930</td>\n",
       "      <td>2</td>\n",
       "    </tr>\n",
       "    <tr>\n",
       "      <td>3</td>\n",
       "      <td>1</td>\n",
       "      <td>797</td>\n",
       "      <td>1805</td>\n",
       "      <td>10011</td>\n",
       "      <td>1</td>\n",
       "      <td>0</td>\n",
       "      <td>1</td>\n",
       "      <td>2012</td>\n",
       "      <td>2</td>\n",
       "    </tr>\n",
       "    <tr>\n",
       "      <td>4</td>\n",
       "      <td>2</td>\n",
       "      <td>2724</td>\n",
       "      <td>218</td>\n",
       "      <td>10459</td>\n",
       "      <td>3</td>\n",
       "      <td>0</td>\n",
       "      <td>3</td>\n",
       "      <td>1995</td>\n",
       "      <td>1</td>\n",
       "    </tr>\n",
       "  </tbody>\n",
       "</table>\n",
       "</div>"
      ],
      "text/plain": [
       "   BOROUGH  BLOCK   LOT  ZIPCODE  RESIDENTIAL_UNITS  COMMERCIAL_UNITS  \\\n",
       "0        2   5634     1    10464                  0                 0   \n",
       "1        1    877    42    10010                  0                 0   \n",
       "2        1    134  1475    10007                  1                 0   \n",
       "3        1    797  1805    10011                  1                 0   \n",
       "4        2   2724   218    10459                  3                 0   \n",
       "\n",
       "   TOTAL_UNITS  YEAR_BUILT  TAX_CLASS_AT_TIME_OF_SALE  \n",
       "0            0           0                          4  \n",
       "1            0        1956                          2  \n",
       "2            1        1930                          2  \n",
       "3            1        2012                          2  \n",
       "4            3        1995                          1  "
      ]
     },
     "execution_count": 72,
     "metadata": {},
     "output_type": "execute_result"
    }
   ],
   "source": [
    "X_test.head()"
   ]
  },
  {
   "cell_type": "code",
   "execution_count": 31,
   "metadata": {},
   "outputs": [],
   "source": [
    "reg = LinearRegression()"
   ]
  },
  {
   "cell_type": "code",
   "execution_count": 73,
   "metadata": {},
   "outputs": [
    {
     "data": {
      "text/plain": [
       "LinearRegression(copy_X=True, fit_intercept=True, n_jobs=None, normalize=False)"
      ]
     },
     "execution_count": 73,
     "metadata": {},
     "output_type": "execute_result"
    }
   ],
   "source": [
    "reg.fit(X_train, y_train)"
   ]
  },
  {
   "cell_type": "code",
   "execution_count": 74,
   "metadata": {},
   "outputs": [
    {
     "data": {
      "text/plain": [
       "array([-1.63844329e+05, -3.16261566e+02, -2.21084663e+02, -1.89192358e+02,\n",
       "        2.42175738e+06,  3.07748111e+06, -2.34791701e+06,  2.84818059e+02,\n",
       "        2.14908657e+06])"
      ]
     },
     "execution_count": 74,
     "metadata": {},
     "output_type": "execute_result"
    }
   ],
   "source": [
    "reg.coef_"
   ]
  },
  {
   "cell_type": "code",
   "execution_count": 75,
   "metadata": {},
   "outputs": [
    {
     "data": {
      "text/plain": [
       "array([5050540.22298365, 3054600.65766058, 3039771.36362837,\n",
       "       2779730.31783547,  266305.40603822,  -36135.21339771,\n",
       "       3054688.14903507, 2644890.86971845, -517510.72890515,\n",
       "       3204374.39864777])"
      ]
     },
     "execution_count": 75,
     "metadata": {},
     "output_type": "execute_result"
    }
   ],
   "source": [
    "y_pred = reg.predict(X_test)\n",
    "y_pred[:10]"
   ]
  },
  {
   "cell_type": "code",
   "execution_count": null,
   "metadata": {},
   "outputs": [],
   "source": []
  }
 ],
 "metadata": {
  "kernelspec": {
   "display_name": "Python 3",
   "language": "python",
   "name": "python3"
  },
  "language_info": {
   "codemirror_mode": {
    "name": "ipython",
    "version": 3
   },
   "file_extension": ".py",
   "mimetype": "text/x-python",
   "name": "python",
   "nbconvert_exporter": "python",
   "pygments_lexer": "ipython3",
   "version": "3.7.4"
  }
 },
 "nbformat": 4,
 "nbformat_minor": 4
}
