{
 "cells": [
  {
   "cell_type": "code",
   "execution_count": 3,
   "metadata": {},
   "outputs": [],
   "source": [
    "import numpy as np # math calculations and other matrix, vector calculations\n",
    "import pandas as pd # dataframe organization\n",
    "import seaborn as sns # for plotting\n",
    "import matplotlib.pyplot as plt # for plotting\n",
    "from sklearn.linear_model import LinearRegression\n",
    "from sklearn.metrics import mean_squared_error\n",
    "from sklearn.preprocessing import LabelEncoder"
   ]
  },
  {
   "cell_type": "code",
   "execution_count": 4,
   "metadata": {},
   "outputs": [],
   "source": [
    "# load training data\n",
    "df_train = pd.read_csv('data/housing_training.csv')\n",
    "# load test data\n",
    "df_test = pd.read_csv('data/house_test.csv')\n",
    "# load test labels\n",
    "df_labels = pd.read_csv('data/house_test_labels.csv')"
   ]
  },
  {
   "cell_type": "code",
   "execution_count": 5,
   "metadata": {},
   "outputs": [
    {
     "data": {
      "text/html": [
       "<div>\n",
       "<style scoped>\n",
       "    .dataframe tbody tr th:only-of-type {\n",
       "        vertical-align: middle;\n",
       "    }\n",
       "\n",
       "    .dataframe tbody tr th {\n",
       "        vertical-align: top;\n",
       "    }\n",
       "\n",
       "    .dataframe thead th {\n",
       "        text-align: right;\n",
       "    }\n",
       "</style>\n",
       "<table border=\"1\" class=\"dataframe\">\n",
       "  <thead>\n",
       "    <tr style=\"text-align: right;\">\n",
       "      <th></th>\n",
       "      <th>longitude</th>\n",
       "      <th>latitude</th>\n",
       "      <th>housing_median_age</th>\n",
       "      <th>total_rooms</th>\n",
       "      <th>total_bedrooms</th>\n",
       "      <th>population</th>\n",
       "      <th>households</th>\n",
       "      <th>median_income</th>\n",
       "      <th>median_house_value</th>\n",
       "      <th>ocean_proximity</th>\n",
       "    </tr>\n",
       "  </thead>\n",
       "  <tbody>\n",
       "    <tr>\n",
       "      <td>0</td>\n",
       "      <td>-118.37</td>\n",
       "      <td>33.87</td>\n",
       "      <td>19.0</td>\n",
       "      <td>757.0</td>\n",
       "      <td>148.0</td>\n",
       "      <td>361.0</td>\n",
       "      <td>141.0</td>\n",
       "      <td>6.0200</td>\n",
       "      <td>304200.0</td>\n",
       "      <td>&lt;1H OCEAN</td>\n",
       "    </tr>\n",
       "    <tr>\n",
       "      <td>1</td>\n",
       "      <td>-120.86</td>\n",
       "      <td>35.39</td>\n",
       "      <td>23.0</td>\n",
       "      <td>1664.0</td>\n",
       "      <td>355.0</td>\n",
       "      <td>629.0</td>\n",
       "      <td>279.0</td>\n",
       "      <td>2.7344</td>\n",
       "      <td>188300.0</td>\n",
       "      <td>NEAR OCEAN</td>\n",
       "    </tr>\n",
       "    <tr>\n",
       "      <td>2</td>\n",
       "      <td>-117.18</td>\n",
       "      <td>33.16</td>\n",
       "      <td>15.0</td>\n",
       "      <td>5923.0</td>\n",
       "      <td>1206.0</td>\n",
       "      <td>3943.0</td>\n",
       "      <td>1006.0</td>\n",
       "      <td>3.1793</td>\n",
       "      <td>159900.0</td>\n",
       "      <td>&lt;1H OCEAN</td>\n",
       "    </tr>\n",
       "    <tr>\n",
       "      <td>3</td>\n",
       "      <td>-118.30</td>\n",
       "      <td>34.06</td>\n",
       "      <td>23.0</td>\n",
       "      <td>2512.0</td>\n",
       "      <td>1203.0</td>\n",
       "      <td>3720.0</td>\n",
       "      <td>1118.0</td>\n",
       "      <td>1.7896</td>\n",
       "      <td>322200.0</td>\n",
       "      <td>&lt;1H OCEAN</td>\n",
       "    </tr>\n",
       "    <tr>\n",
       "      <td>4</td>\n",
       "      <td>-121.45</td>\n",
       "      <td>38.56</td>\n",
       "      <td>52.0</td>\n",
       "      <td>3170.0</td>\n",
       "      <td>476.0</td>\n",
       "      <td>1027.0</td>\n",
       "      <td>457.0</td>\n",
       "      <td>4.6300</td>\n",
       "      <td>233800.0</td>\n",
       "      <td>INLAND</td>\n",
       "    </tr>\n",
       "  </tbody>\n",
       "</table>\n",
       "</div>"
      ],
      "text/plain": [
       "   longitude  latitude  housing_median_age  total_rooms  total_bedrooms  \\\n",
       "0    -118.37     33.87                19.0        757.0           148.0   \n",
       "1    -120.86     35.39                23.0       1664.0           355.0   \n",
       "2    -117.18     33.16                15.0       5923.0          1206.0   \n",
       "3    -118.30     34.06                23.0       2512.0          1203.0   \n",
       "4    -121.45     38.56                52.0       3170.0           476.0   \n",
       "\n",
       "   population  households  median_income  median_house_value ocean_proximity  \n",
       "0       361.0       141.0         6.0200            304200.0       <1H OCEAN  \n",
       "1       629.0       279.0         2.7344            188300.0      NEAR OCEAN  \n",
       "2      3943.0      1006.0         3.1793            159900.0       <1H OCEAN  \n",
       "3      3720.0      1118.0         1.7896            322200.0       <1H OCEAN  \n",
       "4      1027.0       457.0         4.6300            233800.0          INLAND  "
      ]
     },
     "execution_count": 5,
     "metadata": {},
     "output_type": "execute_result"
    }
   ],
   "source": [
    "df_train.head()"
   ]
  },
  {
   "cell_type": "code",
   "execution_count": 6,
   "metadata": {},
   "outputs": [
    {
     "data": {
      "text/html": [
       "<div>\n",
       "<style scoped>\n",
       "    .dataframe tbody tr th:only-of-type {\n",
       "        vertical-align: middle;\n",
       "    }\n",
       "\n",
       "    .dataframe tbody tr th {\n",
       "        vertical-align: top;\n",
       "    }\n",
       "\n",
       "    .dataframe thead th {\n",
       "        text-align: right;\n",
       "    }\n",
       "</style>\n",
       "<table border=\"1\" class=\"dataframe\">\n",
       "  <thead>\n",
       "    <tr style=\"text-align: right;\">\n",
       "      <th></th>\n",
       "      <th>longitude</th>\n",
       "      <th>latitude</th>\n",
       "      <th>housing_median_age</th>\n",
       "      <th>total_rooms</th>\n",
       "      <th>total_bedrooms</th>\n",
       "      <th>population</th>\n",
       "      <th>households</th>\n",
       "      <th>median_income</th>\n",
       "      <th>ocean_proximity</th>\n",
       "    </tr>\n",
       "  </thead>\n",
       "  <tbody>\n",
       "    <tr>\n",
       "      <td>0</td>\n",
       "      <td>-122.64</td>\n",
       "      <td>38.24</td>\n",
       "      <td>40.0</td>\n",
       "      <td>1974.0</td>\n",
       "      <td>410.0</td>\n",
       "      <td>1039.0</td>\n",
       "      <td>398.0</td>\n",
       "      <td>3.7917</td>\n",
       "      <td>&lt;1H OCEAN</td>\n",
       "    </tr>\n",
       "    <tr>\n",
       "      <td>1</td>\n",
       "      <td>-119.05</td>\n",
       "      <td>36.09</td>\n",
       "      <td>9.0</td>\n",
       "      <td>3297.0</td>\n",
       "      <td>568.0</td>\n",
       "      <td>1749.0</td>\n",
       "      <td>568.0</td>\n",
       "      <td>4.0217</td>\n",
       "      <td>INLAND</td>\n",
       "    </tr>\n",
       "    <tr>\n",
       "      <td>2</td>\n",
       "      <td>-116.98</td>\n",
       "      <td>32.85</td>\n",
       "      <td>12.0</td>\n",
       "      <td>3570.0</td>\n",
       "      <td>713.0</td>\n",
       "      <td>3321.0</td>\n",
       "      <td>666.0</td>\n",
       "      <td>4.0882</td>\n",
       "      <td>&lt;1H OCEAN</td>\n",
       "    </tr>\n",
       "    <tr>\n",
       "      <td>3</td>\n",
       "      <td>-118.42</td>\n",
       "      <td>34.20</td>\n",
       "      <td>27.0</td>\n",
       "      <td>3201.0</td>\n",
       "      <td>970.0</td>\n",
       "      <td>3403.0</td>\n",
       "      <td>948.0</td>\n",
       "      <td>2.2377</td>\n",
       "      <td>&lt;1H OCEAN</td>\n",
       "    </tr>\n",
       "    <tr>\n",
       "      <td>4</td>\n",
       "      <td>-118.47</td>\n",
       "      <td>34.01</td>\n",
       "      <td>41.0</td>\n",
       "      <td>2704.0</td>\n",
       "      <td>557.0</td>\n",
       "      <td>1047.0</td>\n",
       "      <td>478.0</td>\n",
       "      <td>4.4211</td>\n",
       "      <td>&lt;1H OCEAN</td>\n",
       "    </tr>\n",
       "  </tbody>\n",
       "</table>\n",
       "</div>"
      ],
      "text/plain": [
       "   longitude  latitude  housing_median_age  total_rooms  total_bedrooms  \\\n",
       "0    -122.64     38.24                40.0       1974.0           410.0   \n",
       "1    -119.05     36.09                 9.0       3297.0           568.0   \n",
       "2    -116.98     32.85                12.0       3570.0           713.0   \n",
       "3    -118.42     34.20                27.0       3201.0           970.0   \n",
       "4    -118.47     34.01                41.0       2704.0           557.0   \n",
       "\n",
       "   population  households  median_income ocean_proximity  \n",
       "0      1039.0       398.0         3.7917       <1H OCEAN  \n",
       "1      1749.0       568.0         4.0217          INLAND  \n",
       "2      3321.0       666.0         4.0882       <1H OCEAN  \n",
       "3      3403.0       948.0         2.2377       <1H OCEAN  \n",
       "4      1047.0       478.0         4.4211       <1H OCEAN  "
      ]
     },
     "execution_count": 6,
     "metadata": {},
     "output_type": "execute_result"
    }
   ],
   "source": [
    "df_test.head()"
   ]
  },
  {
   "cell_type": "code",
   "execution_count": 7,
   "metadata": {},
   "outputs": [
    {
     "data": {
      "text/html": [
       "<div>\n",
       "<style scoped>\n",
       "    .dataframe tbody tr th:only-of-type {\n",
       "        vertical-align: middle;\n",
       "    }\n",
       "\n",
       "    .dataframe tbody tr th {\n",
       "        vertical-align: top;\n",
       "    }\n",
       "\n",
       "    .dataframe thead th {\n",
       "        text-align: right;\n",
       "    }\n",
       "</style>\n",
       "<table border=\"1\" class=\"dataframe\">\n",
       "  <thead>\n",
       "    <tr style=\"text-align: right;\">\n",
       "      <th></th>\n",
       "      <th>median_house_value</th>\n",
       "    </tr>\n",
       "  </thead>\n",
       "  <tbody>\n",
       "    <tr>\n",
       "      <td>0</td>\n",
       "      <td>151600.0</td>\n",
       "    </tr>\n",
       "    <tr>\n",
       "      <td>1</td>\n",
       "      <td>99200.0</td>\n",
       "    </tr>\n",
       "    <tr>\n",
       "      <td>2</td>\n",
       "      <td>134500.0</td>\n",
       "    </tr>\n",
       "    <tr>\n",
       "      <td>3</td>\n",
       "      <td>231700.0</td>\n",
       "    </tr>\n",
       "    <tr>\n",
       "      <td>4</td>\n",
       "      <td>462900.0</td>\n",
       "    </tr>\n",
       "  </tbody>\n",
       "</table>\n",
       "</div>"
      ],
      "text/plain": [
       "   median_house_value\n",
       "0            151600.0\n",
       "1             99200.0\n",
       "2            134500.0\n",
       "3            231700.0\n",
       "4            462900.0"
      ]
     },
     "execution_count": 7,
     "metadata": {},
     "output_type": "execute_result"
    }
   ],
   "source": [
    "df_labels.head()"
   ]
  },
  {
   "cell_type": "code",
   "execution_count": 8,
   "metadata": {},
   "outputs": [
    {
     "data": {
      "text/plain": [
       "(13828, 10)"
      ]
     },
     "execution_count": 8,
     "metadata": {},
     "output_type": "execute_result"
    }
   ],
   "source": [
    "df_train.shape"
   ]
  },
  {
   "cell_type": "code",
   "execution_count": 9,
   "metadata": {},
   "outputs": [
    {
     "data": {
      "text/plain": [
       "(6812, 9)"
      ]
     },
     "execution_count": 9,
     "metadata": {},
     "output_type": "execute_result"
    }
   ],
   "source": [
    "df_test.shape"
   ]
  },
  {
   "cell_type": "code",
   "execution_count": 10,
   "metadata": {},
   "outputs": [
    {
     "data": {
      "text/plain": [
       "(6812, 1)"
      ]
     },
     "execution_count": 10,
     "metadata": {},
     "output_type": "execute_result"
    }
   ],
   "source": [
    "df_labels.shape"
   ]
  },
  {
   "cell_type": "code",
   "execution_count": 11,
   "metadata": {},
   "outputs": [
    {
     "name": "stdout",
     "output_type": "stream",
     "text": [
      "<class 'pandas.core.frame.DataFrame'>\n",
      "RangeIndex: 13828 entries, 0 to 13827\n",
      "Data columns (total 10 columns):\n",
      "longitude             13828 non-null float64\n",
      "latitude              13828 non-null float64\n",
      "housing_median_age    13828 non-null float64\n",
      "total_rooms           13828 non-null float64\n",
      "total_bedrooms        13698 non-null float64\n",
      "population            13828 non-null float64\n",
      "households            13828 non-null float64\n",
      "median_income         13828 non-null float64\n",
      "median_house_value    13828 non-null float64\n",
      "ocean_proximity       13828 non-null object\n",
      "dtypes: float64(9), object(1)\n",
      "memory usage: 1.1+ MB\n"
     ]
    }
   ],
   "source": [
    "df_train.info()"
   ]
  },
  {
   "cell_type": "code",
   "execution_count": 12,
   "metadata": {},
   "outputs": [
    {
     "data": {
      "text/plain": [
       "longitude               0\n",
       "latitude                0\n",
       "housing_median_age      0\n",
       "total_rooms             0\n",
       "total_bedrooms        130\n",
       "population              0\n",
       "households              0\n",
       "median_income           0\n",
       "median_house_value      0\n",
       "ocean_proximity         0\n",
       "dtype: int64"
      ]
     },
     "execution_count": 12,
     "metadata": {},
     "output_type": "execute_result"
    }
   ],
   "source": [
    "df_train.isnull().sum()"
   ]
  },
  {
   "cell_type": "code",
   "execution_count": 13,
   "metadata": {},
   "outputs": [
    {
     "data": {
      "text/plain": [
       "longitude              0\n",
       "latitude               0\n",
       "housing_median_age     0\n",
       "total_rooms            0\n",
       "total_bedrooms        77\n",
       "population             0\n",
       "households             0\n",
       "median_income          0\n",
       "ocean_proximity        0\n",
       "dtype: int64"
      ]
     },
     "execution_count": 13,
     "metadata": {},
     "output_type": "execute_result"
    }
   ],
   "source": [
    "df_test.isnull().sum()"
   ]
  },
  {
   "cell_type": "code",
   "execution_count": 14,
   "metadata": {},
   "outputs": [
    {
     "data": {
      "text/plain": [
       "longitude             0\n",
       "latitude              0\n",
       "housing_median_age    0\n",
       "total_rooms           0\n",
       "total_bedrooms        0\n",
       "population            0\n",
       "households            0\n",
       "median_income         0\n",
       "median_house_value    0\n",
       "ocean_proximity       0\n",
       "dtype: int64"
      ]
     },
     "execution_count": 14,
     "metadata": {},
     "output_type": "execute_result"
    }
   ],
   "source": [
    "median_br_train = df_train['total_bedrooms'].median() # second option\n",
    "df_train_fixed = df_train.copy() # copy dataframe\n",
    "df_train_fixed['total_bedrooms'].fillna(median_br_train,\n",
    "                                       inplace=True) # fill null values with median value of feature\n",
    "df_train_fixed.isnull().sum()"
   ]
  },
  {
   "cell_type": "code",
   "execution_count": 15,
   "metadata": {},
   "outputs": [
    {
     "data": {
      "text/plain": [
       "longitude             0\n",
       "latitude              0\n",
       "housing_median_age    0\n",
       "total_rooms           0\n",
       "total_bedrooms        0\n",
       "population            0\n",
       "households            0\n",
       "median_income         0\n",
       "ocean_proximity       0\n",
       "dtype: int64"
      ]
     },
     "execution_count": 15,
     "metadata": {},
     "output_type": "execute_result"
    }
   ],
   "source": [
    "median_br_test = df_test['total_bedrooms'].median()\n",
    "df_test_fixed = df_test.copy()\n",
    "df_test_fixed['total_bedrooms'].fillna(median_br_test, inplace=True)\n",
    "df_test_fixed.isnull().sum()"
   ]
  },
  {
   "cell_type": "code",
   "execution_count": 16,
   "metadata": {},
   "outputs": [],
   "source": [
    "reg = LinearRegression()"
   ]
  },
  {
   "cell_type": "code",
   "execution_count": 17,
   "metadata": {},
   "outputs": [],
   "source": [
    "le = LabelEncoder()"
   ]
  },
  {
   "cell_type": "code",
   "execution_count": 18,
   "metadata": {},
   "outputs": [
    {
     "data": {
      "text/plain": [
       "LabelEncoder()"
      ]
     },
     "execution_count": 18,
     "metadata": {},
     "output_type": "execute_result"
    }
   ],
   "source": [
    "le.fit(df_train_fixed['ocean_proximity'])"
   ]
  },
  {
   "cell_type": "code",
   "execution_count": 19,
   "metadata": {},
   "outputs": [
    {
     "data": {
      "text/plain": [
       "array(['<1H OCEAN', 'INLAND', 'ISLAND', 'NEAR BAY', 'NEAR OCEAN'],\n",
       "      dtype=object)"
      ]
     },
     "execution_count": 19,
     "metadata": {},
     "output_type": "execute_result"
    }
   ],
   "source": [
    "le.classes_"
   ]
  },
  {
   "cell_type": "code",
   "execution_count": 20,
   "metadata": {},
   "outputs": [],
   "source": [
    "#df_train_fixed['ocean_proximity'] = le.transform(df_train['ocean_proximity'].values)  # encode categorical data\n",
    "#df_test_fixed['ocean_proximity'] = le.transform(df_test['ocean_proximity'].values)"
   ]
  },
  {
   "cell_type": "code",
   "execution_count": 21,
   "metadata": {},
   "outputs": [],
   "source": [
    "df_train_fixed['ocean_proximity_coded'] = df_train['ocean_proximity'].map({'<1H OCEAN':2, 'INLAND':1, 'ISLAND':5,\n",
    "                                                                              'NEAR BAY':3, 'NEAR OCEAN':4})\n",
    "df_test_fixed['ocean_proximity_coded'] = df_test['ocean_proximity'].map({'<1H OCEAN':2, 'INLAND':1, 'ISLAND':5,\n",
    "                                                                              'NEAR BAY':3, 'NEAR OCEAN':4})"
   ]
  },
  {
   "cell_type": "code",
   "execution_count": 22,
   "metadata": {},
   "outputs": [
    {
     "name": "stdout",
     "output_type": "stream",
     "text": [
      "<class 'pandas.core.frame.DataFrame'>\n",
      "RangeIndex: 13828 entries, 0 to 13827\n",
      "Data columns (total 11 columns):\n",
      "longitude                13828 non-null float64\n",
      "latitude                 13828 non-null float64\n",
      "housing_median_age       13828 non-null float64\n",
      "total_rooms              13828 non-null float64\n",
      "total_bedrooms           13828 non-null float64\n",
      "population               13828 non-null float64\n",
      "households               13828 non-null float64\n",
      "median_income            13828 non-null float64\n",
      "median_house_value       13828 non-null float64\n",
      "ocean_proximity          13828 non-null object\n",
      "ocean_proximity_coded    13828 non-null int64\n",
      "dtypes: float64(9), int64(1), object(1)\n",
      "memory usage: 1.2+ MB\n"
     ]
    }
   ],
   "source": [
    "df_train_fixed.info()"
   ]
  },
  {
   "cell_type": "code",
   "execution_count": 23,
   "metadata": {},
   "outputs": [
    {
     "name": "stdout",
     "output_type": "stream",
     "text": [
      "<class 'pandas.core.frame.DataFrame'>\n",
      "RangeIndex: 6812 entries, 0 to 6811\n",
      "Data columns (total 10 columns):\n",
      "longitude                6812 non-null float64\n",
      "latitude                 6812 non-null float64\n",
      "housing_median_age       6812 non-null float64\n",
      "total_rooms              6812 non-null float64\n",
      "total_bedrooms           6812 non-null float64\n",
      "population               6812 non-null float64\n",
      "households               6812 non-null float64\n",
      "median_income            6812 non-null float64\n",
      "ocean_proximity          6812 non-null object\n",
      "ocean_proximity_coded    6812 non-null int64\n",
      "dtypes: float64(8), int64(1), object(1)\n",
      "memory usage: 532.3+ KB\n"
     ]
    }
   ],
   "source": [
    "df_test_fixed.info()"
   ]
  },
  {
   "cell_type": "code",
   "execution_count": 24,
   "metadata": {},
   "outputs": [],
   "source": [
    "df_train_fixed = df_train_fixed.drop(['ocean_proximity'], axis=1)"
   ]
  },
  {
   "cell_type": "code",
   "execution_count": 25,
   "metadata": {},
   "outputs": [],
   "source": [
    "df_test_fixed = df_test_fixed.drop(['ocean_proximity'], axis=1)"
   ]
  },
  {
   "cell_type": "code",
   "execution_count": 26,
   "metadata": {},
   "outputs": [
    {
     "name": "stdout",
     "output_type": "stream",
     "text": [
      "<class 'pandas.core.frame.DataFrame'>\n",
      "RangeIndex: 13828 entries, 0 to 13827\n",
      "Data columns (total 10 columns):\n",
      "longitude                13828 non-null float64\n",
      "latitude                 13828 non-null float64\n",
      "housing_median_age       13828 non-null float64\n",
      "total_rooms              13828 non-null float64\n",
      "total_bedrooms           13828 non-null float64\n",
      "population               13828 non-null float64\n",
      "households               13828 non-null float64\n",
      "median_income            13828 non-null float64\n",
      "median_house_value       13828 non-null float64\n",
      "ocean_proximity_coded    13828 non-null int64\n",
      "dtypes: float64(9), int64(1)\n",
      "memory usage: 1.1 MB\n"
     ]
    }
   ],
   "source": [
    "df_train_fixed.info()"
   ]
  },
  {
   "cell_type": "code",
   "execution_count": 27,
   "metadata": {},
   "outputs": [
    {
     "name": "stdout",
     "output_type": "stream",
     "text": [
      "<class 'pandas.core.frame.DataFrame'>\n",
      "RangeIndex: 6812 entries, 0 to 6811\n",
      "Data columns (total 9 columns):\n",
      "longitude                6812 non-null float64\n",
      "latitude                 6812 non-null float64\n",
      "housing_median_age       6812 non-null float64\n",
      "total_rooms              6812 non-null float64\n",
      "total_bedrooms           6812 non-null float64\n",
      "population               6812 non-null float64\n",
      "households               6812 non-null float64\n",
      "median_income            6812 non-null float64\n",
      "ocean_proximity_coded    6812 non-null int64\n",
      "dtypes: float64(8), int64(1)\n",
      "memory usage: 479.1 KB\n"
     ]
    }
   ],
   "source": [
    "df_test_fixed.info()"
   ]
  },
  {
   "cell_type": "code",
   "execution_count": 28,
   "metadata": {},
   "outputs": [
    {
     "data": {
      "text/html": [
       "<div>\n",
       "<style scoped>\n",
       "    .dataframe tbody tr th:only-of-type {\n",
       "        vertical-align: middle;\n",
       "    }\n",
       "\n",
       "    .dataframe tbody tr th {\n",
       "        vertical-align: top;\n",
       "    }\n",
       "\n",
       "    .dataframe thead th {\n",
       "        text-align: right;\n",
       "    }\n",
       "</style>\n",
       "<table border=\"1\" class=\"dataframe\">\n",
       "  <thead>\n",
       "    <tr style=\"text-align: right;\">\n",
       "      <th></th>\n",
       "      <th>longitude</th>\n",
       "      <th>latitude</th>\n",
       "      <th>housing_median_age</th>\n",
       "      <th>total_rooms</th>\n",
       "      <th>total_bedrooms</th>\n",
       "      <th>population</th>\n",
       "      <th>households</th>\n",
       "      <th>median_income</th>\n",
       "      <th>median_house_value</th>\n",
       "      <th>ocean_proximity_coded</th>\n",
       "    </tr>\n",
       "  </thead>\n",
       "  <tbody>\n",
       "    <tr>\n",
       "      <td>0</td>\n",
       "      <td>-118.37</td>\n",
       "      <td>33.87</td>\n",
       "      <td>19.0</td>\n",
       "      <td>757.0</td>\n",
       "      <td>148.0</td>\n",
       "      <td>361.0</td>\n",
       "      <td>141.0</td>\n",
       "      <td>6.0200</td>\n",
       "      <td>304200.0</td>\n",
       "      <td>2</td>\n",
       "    </tr>\n",
       "    <tr>\n",
       "      <td>1</td>\n",
       "      <td>-120.86</td>\n",
       "      <td>35.39</td>\n",
       "      <td>23.0</td>\n",
       "      <td>1664.0</td>\n",
       "      <td>355.0</td>\n",
       "      <td>629.0</td>\n",
       "      <td>279.0</td>\n",
       "      <td>2.7344</td>\n",
       "      <td>188300.0</td>\n",
       "      <td>4</td>\n",
       "    </tr>\n",
       "    <tr>\n",
       "      <td>2</td>\n",
       "      <td>-117.18</td>\n",
       "      <td>33.16</td>\n",
       "      <td>15.0</td>\n",
       "      <td>5923.0</td>\n",
       "      <td>1206.0</td>\n",
       "      <td>3943.0</td>\n",
       "      <td>1006.0</td>\n",
       "      <td>3.1793</td>\n",
       "      <td>159900.0</td>\n",
       "      <td>2</td>\n",
       "    </tr>\n",
       "    <tr>\n",
       "      <td>3</td>\n",
       "      <td>-118.30</td>\n",
       "      <td>34.06</td>\n",
       "      <td>23.0</td>\n",
       "      <td>2512.0</td>\n",
       "      <td>1203.0</td>\n",
       "      <td>3720.0</td>\n",
       "      <td>1118.0</td>\n",
       "      <td>1.7896</td>\n",
       "      <td>322200.0</td>\n",
       "      <td>2</td>\n",
       "    </tr>\n",
       "    <tr>\n",
       "      <td>4</td>\n",
       "      <td>-121.45</td>\n",
       "      <td>38.56</td>\n",
       "      <td>52.0</td>\n",
       "      <td>3170.0</td>\n",
       "      <td>476.0</td>\n",
       "      <td>1027.0</td>\n",
       "      <td>457.0</td>\n",
       "      <td>4.6300</td>\n",
       "      <td>233800.0</td>\n",
       "      <td>1</td>\n",
       "    </tr>\n",
       "  </tbody>\n",
       "</table>\n",
       "</div>"
      ],
      "text/plain": [
       "   longitude  latitude  housing_median_age  total_rooms  total_bedrooms  \\\n",
       "0    -118.37     33.87                19.0        757.0           148.0   \n",
       "1    -120.86     35.39                23.0       1664.0           355.0   \n",
       "2    -117.18     33.16                15.0       5923.0          1206.0   \n",
       "3    -118.30     34.06                23.0       2512.0          1203.0   \n",
       "4    -121.45     38.56                52.0       3170.0           476.0   \n",
       "\n",
       "   population  households  median_income  median_house_value  \\\n",
       "0       361.0       141.0         6.0200            304200.0   \n",
       "1       629.0       279.0         2.7344            188300.0   \n",
       "2      3943.0      1006.0         3.1793            159900.0   \n",
       "3      3720.0      1118.0         1.7896            322200.0   \n",
       "4      1027.0       457.0         4.6300            233800.0   \n",
       "\n",
       "   ocean_proximity_coded  \n",
       "0                      2  \n",
       "1                      4  \n",
       "2                      2  \n",
       "3                      2  \n",
       "4                      1  "
      ]
     },
     "execution_count": 28,
     "metadata": {},
     "output_type": "execute_result"
    }
   ],
   "source": [
    "df_train_fixed.head()"
   ]
  },
  {
   "cell_type": "code",
   "execution_count": 29,
   "metadata": {},
   "outputs": [
    {
     "data": {
      "text/html": [
       "<div>\n",
       "<style scoped>\n",
       "    .dataframe tbody tr th:only-of-type {\n",
       "        vertical-align: middle;\n",
       "    }\n",
       "\n",
       "    .dataframe tbody tr th {\n",
       "        vertical-align: top;\n",
       "    }\n",
       "\n",
       "    .dataframe thead th {\n",
       "        text-align: right;\n",
       "    }\n",
       "</style>\n",
       "<table border=\"1\" class=\"dataframe\">\n",
       "  <thead>\n",
       "    <tr style=\"text-align: right;\">\n",
       "      <th></th>\n",
       "      <th>longitude</th>\n",
       "      <th>latitude</th>\n",
       "      <th>housing_median_age</th>\n",
       "      <th>total_rooms</th>\n",
       "      <th>total_bedrooms</th>\n",
       "      <th>population</th>\n",
       "      <th>households</th>\n",
       "      <th>median_income</th>\n",
       "      <th>ocean_proximity_coded</th>\n",
       "    </tr>\n",
       "  </thead>\n",
       "  <tbody>\n",
       "    <tr>\n",
       "      <td>0</td>\n",
       "      <td>-122.64</td>\n",
       "      <td>38.24</td>\n",
       "      <td>40.0</td>\n",
       "      <td>1974.0</td>\n",
       "      <td>410.0</td>\n",
       "      <td>1039.0</td>\n",
       "      <td>398.0</td>\n",
       "      <td>3.7917</td>\n",
       "      <td>2</td>\n",
       "    </tr>\n",
       "    <tr>\n",
       "      <td>1</td>\n",
       "      <td>-119.05</td>\n",
       "      <td>36.09</td>\n",
       "      <td>9.0</td>\n",
       "      <td>3297.0</td>\n",
       "      <td>568.0</td>\n",
       "      <td>1749.0</td>\n",
       "      <td>568.0</td>\n",
       "      <td>4.0217</td>\n",
       "      <td>1</td>\n",
       "    </tr>\n",
       "    <tr>\n",
       "      <td>2</td>\n",
       "      <td>-116.98</td>\n",
       "      <td>32.85</td>\n",
       "      <td>12.0</td>\n",
       "      <td>3570.0</td>\n",
       "      <td>713.0</td>\n",
       "      <td>3321.0</td>\n",
       "      <td>666.0</td>\n",
       "      <td>4.0882</td>\n",
       "      <td>2</td>\n",
       "    </tr>\n",
       "    <tr>\n",
       "      <td>3</td>\n",
       "      <td>-118.42</td>\n",
       "      <td>34.20</td>\n",
       "      <td>27.0</td>\n",
       "      <td>3201.0</td>\n",
       "      <td>970.0</td>\n",
       "      <td>3403.0</td>\n",
       "      <td>948.0</td>\n",
       "      <td>2.2377</td>\n",
       "      <td>2</td>\n",
       "    </tr>\n",
       "    <tr>\n",
       "      <td>4</td>\n",
       "      <td>-118.47</td>\n",
       "      <td>34.01</td>\n",
       "      <td>41.0</td>\n",
       "      <td>2704.0</td>\n",
       "      <td>557.0</td>\n",
       "      <td>1047.0</td>\n",
       "      <td>478.0</td>\n",
       "      <td>4.4211</td>\n",
       "      <td>2</td>\n",
       "    </tr>\n",
       "  </tbody>\n",
       "</table>\n",
       "</div>"
      ],
      "text/plain": [
       "   longitude  latitude  housing_median_age  total_rooms  total_bedrooms  \\\n",
       "0    -122.64     38.24                40.0       1974.0           410.0   \n",
       "1    -119.05     36.09                 9.0       3297.0           568.0   \n",
       "2    -116.98     32.85                12.0       3570.0           713.0   \n",
       "3    -118.42     34.20                27.0       3201.0           970.0   \n",
       "4    -118.47     34.01                41.0       2704.0           557.0   \n",
       "\n",
       "   population  households  median_income  ocean_proximity_coded  \n",
       "0      1039.0       398.0         3.7917                      2  \n",
       "1      1749.0       568.0         4.0217                      1  \n",
       "2      3321.0       666.0         4.0882                      2  \n",
       "3      3403.0       948.0         2.2377                      2  \n",
       "4      1047.0       478.0         4.4211                      2  "
      ]
     },
     "execution_count": 29,
     "metadata": {},
     "output_type": "execute_result"
    }
   ],
   "source": [
    "df_test_fixed.head()"
   ]
  },
  {
   "cell_type": "code",
   "execution_count": 30,
   "metadata": {},
   "outputs": [
    {
     "data": {
      "text/plain": [
       "array([[<matplotlib.axes._subplots.AxesSubplot object at 0x1a171fc250>,\n",
       "        <matplotlib.axes._subplots.AxesSubplot object at 0x1a1757bcd0>,\n",
       "        <matplotlib.axes._subplots.AxesSubplot object at 0x1a175b3fd0>,\n",
       "        <matplotlib.axes._subplots.AxesSubplot object at 0x1a17e95850>,\n",
       "        <matplotlib.axes._subplots.AxesSubplot object at 0x1a17ecdb50>,\n",
       "        <matplotlib.axes._subplots.AxesSubplot object at 0x1a17f02e50>],\n",
       "       [<matplotlib.axes._subplots.AxesSubplot object at 0x1a17f44c90>,\n",
       "        <matplotlib.axes._subplots.AxesSubplot object at 0x1a17f7e490>,\n",
       "        <matplotlib.axes._subplots.AxesSubplot object at 0x1a17f7ef10>,\n",
       "        <matplotlib.axes._subplots.AxesSubplot object at 0x1a17fc1390>,\n",
       "        <matplotlib.axes._subplots.AxesSubplot object at 0x1a18022d90>,\n",
       "        <matplotlib.axes._subplots.AxesSubplot object at 0x1a18067c10>],\n",
       "       [<matplotlib.axes._subplots.AxesSubplot object at 0x1a1809c8d0>,\n",
       "        <matplotlib.axes._subplots.AxesSubplot object at 0x1a180dbc50>,\n",
       "        <matplotlib.axes._subplots.AxesSubplot object at 0x1a18112910>,\n",
       "        <matplotlib.axes._subplots.AxesSubplot object at 0x1a1814ec90>,\n",
       "        <matplotlib.axes._subplots.AxesSubplot object at 0x1a18183950>,\n",
       "        <matplotlib.axes._subplots.AxesSubplot object at 0x1a181c2cd0>],\n",
       "       [<matplotlib.axes._subplots.AxesSubplot object at 0x1a18213990>,\n",
       "        <matplotlib.axes._subplots.AxesSubplot object at 0x1a18254d10>,\n",
       "        <matplotlib.axes._subplots.AxesSubplot object at 0x1a182899d0>,\n",
       "        <matplotlib.axes._subplots.AxesSubplot object at 0x1a182c8d50>,\n",
       "        <matplotlib.axes._subplots.AxesSubplot object at 0x1a182fda10>,\n",
       "        <matplotlib.axes._subplots.AxesSubplot object at 0x1a1833bd90>],\n",
       "       [<matplotlib.axes._subplots.AxesSubplot object at 0x1a18370a50>,\n",
       "        <matplotlib.axes._subplots.AxesSubplot object at 0x1a183acc90>,\n",
       "        <matplotlib.axes._subplots.AxesSubplot object at 0x1a183e2950>,\n",
       "        <matplotlib.axes._subplots.AxesSubplot object at 0x1a18422cd0>,\n",
       "        <matplotlib.axes._subplots.AxesSubplot object at 0x1a18459990>,\n",
       "        <matplotlib.axes._subplots.AxesSubplot object at 0x1a18498d10>],\n",
       "       [<matplotlib.axes._subplots.AxesSubplot object at 0x1a184cc9d0>,\n",
       "        <matplotlib.axes._subplots.AxesSubplot object at 0x1a1850ad50>,\n",
       "        <matplotlib.axes._subplots.AxesSubplot object at 0x1a1853fa10>,\n",
       "        <matplotlib.axes._subplots.AxesSubplot object at 0x1a1857ed90>,\n",
       "        <matplotlib.axes._subplots.AxesSubplot object at 0x1a185b3a50>,\n",
       "        <matplotlib.axes._subplots.AxesSubplot object at 0x1a185f5dd0>]],\n",
       "      dtype=object)"
      ]
     },
     "execution_count": 30,
     "metadata": {},
     "output_type": "execute_result"
    },
    {
     "data": {
      "image/png": "[encoded data removed]",
      "text/plain": [
       "<Figure size 1080x576 with 36 Axes>"
      ]
     },
     "metadata": {
      "needs_background": "light"
     },
     "output_type": "display_data"
    }
   ],
   "source": [
    "# scatter plot\n",
    "from pandas.plotting import scatter_matrix\n",
    "features = ['median_house_value', 'median_income', 'households', 'total_rooms',\n",
    "            'ocean_proximity_coded','total_bedrooms']\n",
    "scatter_matrix(df_train_fixed[features], figsize=(15,8))"
   ]
  },
  {
   "cell_type": "code",
   "execution_count": 31,
   "metadata": {},
   "outputs": [
    {
     "name": "stdout",
     "output_type": "stream",
     "text": [
      "<class 'pandas.core.frame.DataFrame'>\n",
      "RangeIndex: 13828 entries, 0 to 13827\n",
      "Data columns (total 10 columns):\n",
      "longitude                13828 non-null float64\n",
      "latitude                 13828 non-null float64\n",
      "housing_median_age       13828 non-null float64\n",
      "total_rooms              13828 non-null float64\n",
      "total_bedrooms           13828 non-null float64\n",
      "population               13828 non-null float64\n",
      "households               13828 non-null float64\n",
      "median_income            13828 non-null float64\n",
      "median_house_value       13828 non-null float64\n",
      "ocean_proximity_coded    13828 non-null int64\n",
      "dtypes: float64(9), int64(1)\n",
      "memory usage: 1.1 MB\n"
     ]
    }
   ],
   "source": [
    "df_train_fixed.info()"
   ]
  },
  {
   "cell_type": "code",
   "execution_count": 32,
   "metadata": {},
   "outputs": [
    {
     "name": "stdout",
     "output_type": "stream",
     "text": [
      "<class 'pandas.core.frame.DataFrame'>\n",
      "RangeIndex: 6812 entries, 0 to 6811\n",
      "Data columns (total 9 columns):\n",
      "longitude                6812 non-null float64\n",
      "latitude                 6812 non-null float64\n",
      "housing_median_age       6812 non-null float64\n",
      "total_rooms              6812 non-null float64\n",
      "total_bedrooms           6812 non-null float64\n",
      "population               6812 non-null float64\n",
      "households               6812 non-null float64\n",
      "median_income            6812 non-null float64\n",
      "ocean_proximity_coded    6812 non-null int64\n",
      "dtypes: float64(8), int64(1)\n",
      "memory usage: 479.1 KB\n"
     ]
    }
   ],
   "source": [
    "df_test_fixed.info()"
   ]
  },
  {
   "cell_type": "code",
   "execution_count": 33,
   "metadata": {},
   "outputs": [],
   "source": [
    "y_train = df_train_fixed['median_house_value']\n",
    "X_train = df_train_fixed.drop(['longitude','latitude','housing_median_age','total_bedrooms','population',\n",
    "                               'households','median_house_value','ocean_proximity_coded'],axis=1) \n",
    "X_test = df_test_fixed.drop(['longitude','latitude','housing_median_age','total_bedrooms','population',\n",
    "                               'households','ocean_proximity_coded'],axis=1) \n",
    "y_real = df_labels"
   ]
  },
  {
   "cell_type": "code",
   "execution_count": 34,
   "metadata": {},
   "outputs": [
    {
     "name": "stdout",
     "output_type": "stream",
     "text": [
      "<class 'pandas.core.frame.DataFrame'>\n",
      "RangeIndex: 13828 entries, 0 to 13827\n",
      "Data columns (total 2 columns):\n",
      "total_rooms      13828 non-null float64\n",
      "median_income    13828 non-null float64\n",
      "dtypes: float64(2)\n",
      "memory usage: 216.2 KB\n"
     ]
    }
   ],
   "source": [
    "X_train.info()"
   ]
  },
  {
   "cell_type": "code",
   "execution_count": 35,
   "metadata": {},
   "outputs": [
    {
     "data": {
      "text/html": [
       "<div>\n",
       "<style scoped>\n",
       "    .dataframe tbody tr th:only-of-type {\n",
       "        vertical-align: middle;\n",
       "    }\n",
       "\n",
       "    .dataframe tbody tr th {\n",
       "        vertical-align: top;\n",
       "    }\n",
       "\n",
       "    .dataframe thead th {\n",
       "        text-align: right;\n",
       "    }\n",
       "</style>\n",
       "<table border=\"1\" class=\"dataframe\">\n",
       "  <thead>\n",
       "    <tr style=\"text-align: right;\">\n",
       "      <th></th>\n",
       "      <th>total_rooms</th>\n",
       "      <th>median_income</th>\n",
       "    </tr>\n",
       "  </thead>\n",
       "  <tbody>\n",
       "    <tr>\n",
       "      <td>0</td>\n",
       "      <td>1974.0</td>\n",
       "      <td>3.7917</td>\n",
       "    </tr>\n",
       "    <tr>\n",
       "      <td>1</td>\n",
       "      <td>3297.0</td>\n",
       "      <td>4.0217</td>\n",
       "    </tr>\n",
       "    <tr>\n",
       "      <td>2</td>\n",
       "      <td>3570.0</td>\n",
       "      <td>4.0882</td>\n",
       "    </tr>\n",
       "    <tr>\n",
       "      <td>3</td>\n",
       "      <td>3201.0</td>\n",
       "      <td>2.2377</td>\n",
       "    </tr>\n",
       "    <tr>\n",
       "      <td>4</td>\n",
       "      <td>2704.0</td>\n",
       "      <td>4.4211</td>\n",
       "    </tr>\n",
       "  </tbody>\n",
       "</table>\n",
       "</div>"
      ],
      "text/plain": [
       "   total_rooms  median_income\n",
       "0       1974.0         3.7917\n",
       "1       3297.0         4.0217\n",
       "2       3570.0         4.0882\n",
       "3       3201.0         2.2377\n",
       "4       2704.0         4.4211"
      ]
     },
     "execution_count": 35,
     "metadata": {},
     "output_type": "execute_result"
    }
   ],
   "source": [
    "X_test.head()"
   ]
  },
  {
   "cell_type": "code",
   "execution_count": 36,
   "metadata": {},
   "outputs": [
    {
     "data": {
      "text/plain": [
       "0    304200.0\n",
       "1    188300.0\n",
       "2    159900.0\n",
       "3    322200.0\n",
       "4    233800.0\n",
       "Name: median_house_value, dtype: float64"
      ]
     },
     "execution_count": 36,
     "metadata": {},
     "output_type": "execute_result"
    }
   ],
   "source": [
    "y_train.head()"
   ]
  },
  {
   "cell_type": "code",
   "execution_count": 37,
   "metadata": {},
   "outputs": [
    {
     "data": {
      "text/html": [
       "<div>\n",
       "<style scoped>\n",
       "    .dataframe tbody tr th:only-of-type {\n",
       "        vertical-align: middle;\n",
       "    }\n",
       "\n",
       "    .dataframe tbody tr th {\n",
       "        vertical-align: top;\n",
       "    }\n",
       "\n",
       "    .dataframe thead th {\n",
       "        text-align: right;\n",
       "    }\n",
       "</style>\n",
       "<table border=\"1\" class=\"dataframe\">\n",
       "  <thead>\n",
       "    <tr style=\"text-align: right;\">\n",
       "      <th></th>\n",
       "      <th>median_house_value</th>\n",
       "    </tr>\n",
       "  </thead>\n",
       "  <tbody>\n",
       "    <tr>\n",
       "      <td>0</td>\n",
       "      <td>151600.0</td>\n",
       "    </tr>\n",
       "    <tr>\n",
       "      <td>1</td>\n",
       "      <td>99200.0</td>\n",
       "    </tr>\n",
       "    <tr>\n",
       "      <td>2</td>\n",
       "      <td>134500.0</td>\n",
       "    </tr>\n",
       "    <tr>\n",
       "      <td>3</td>\n",
       "      <td>231700.0</td>\n",
       "    </tr>\n",
       "    <tr>\n",
       "      <td>4</td>\n",
       "      <td>462900.0</td>\n",
       "    </tr>\n",
       "  </tbody>\n",
       "</table>\n",
       "</div>"
      ],
      "text/plain": [
       "   median_house_value\n",
       "0            151600.0\n",
       "1             99200.0\n",
       "2            134500.0\n",
       "3            231700.0\n",
       "4            462900.0"
      ]
     },
     "execution_count": 37,
     "metadata": {},
     "output_type": "execute_result"
    }
   ],
   "source": [
    "y_real.head()"
   ]
  },
  {
   "cell_type": "code",
   "execution_count": 38,
   "metadata": {},
   "outputs": [
    {
     "data": {
      "text/plain": [
       "LinearRegression(copy_X=True, fit_intercept=True, n_jobs=None, normalize=False)"
      ]
     },
     "execution_count": 38,
     "metadata": {},
     "output_type": "execute_result"
    }
   ],
   "source": [
    "reg.fit(X_train, y_train)"
   ]
  },
  {
   "cell_type": "code",
   "execution_count": 39,
   "metadata": {},
   "outputs": [
    {
     "data": {
      "text/plain": [
       "array([-1.09923059e-01,  4.19085079e+04])"
      ]
     },
     "execution_count": 39,
     "metadata": {},
     "output_type": "execute_result"
    }
   ],
   "source": [
    "reg.coef_"
   ]
  },
  {
   "cell_type": "code",
   "execution_count": 40,
   "metadata": {},
   "outputs": [
    {
     "data": {
      "text/plain": [
       "array([204193.09372313, 213686.62232517, 216443.52910315, 138932.39690414,\n",
       "       230490.06474137, 251187.01333677, 128664.70173399, 231020.44814704,\n",
       "       176786.74371843, 126604.17595565])"
      ]
     },
     "execution_count": 40,
     "metadata": {},
     "output_type": "execute_result"
    }
   ],
   "source": [
    "y_pred = reg.predict(X_test)\n",
    "y_pred[:10]"
   ]
  },
  {
   "cell_type": "code",
   "execution_count": 41,
   "metadata": {},
   "outputs": [
    {
     "data": {
      "text/html": [
       "<div>\n",
       "<style scoped>\n",
       "    .dataframe tbody tr th:only-of-type {\n",
       "        vertical-align: middle;\n",
       "    }\n",
       "\n",
       "    .dataframe tbody tr th {\n",
       "        vertical-align: top;\n",
       "    }\n",
       "\n",
       "    .dataframe thead th {\n",
       "        text-align: right;\n",
       "    }\n",
       "</style>\n",
       "<table border=\"1\" class=\"dataframe\">\n",
       "  <thead>\n",
       "    <tr style=\"text-align: right;\">\n",
       "      <th></th>\n",
       "      <th>median_house_value</th>\n",
       "    </tr>\n",
       "  </thead>\n",
       "  <tbody>\n",
       "    <tr>\n",
       "      <td>0</td>\n",
       "      <td>151600.0</td>\n",
       "    </tr>\n",
       "    <tr>\n",
       "      <td>1</td>\n",
       "      <td>99200.0</td>\n",
       "    </tr>\n",
       "    <tr>\n",
       "      <td>2</td>\n",
       "      <td>134500.0</td>\n",
       "    </tr>\n",
       "    <tr>\n",
       "      <td>3</td>\n",
       "      <td>231700.0</td>\n",
       "    </tr>\n",
       "    <tr>\n",
       "      <td>4</td>\n",
       "      <td>462900.0</td>\n",
       "    </tr>\n",
       "    <tr>\n",
       "      <td>5</td>\n",
       "      <td>140700.0</td>\n",
       "    </tr>\n",
       "    <tr>\n",
       "      <td>6</td>\n",
       "      <td>170300.0</td>\n",
       "    </tr>\n",
       "    <tr>\n",
       "      <td>7</td>\n",
       "      <td>160300.0</td>\n",
       "    </tr>\n",
       "    <tr>\n",
       "      <td>8</td>\n",
       "      <td>101800.0</td>\n",
       "    </tr>\n",
       "    <tr>\n",
       "      <td>9</td>\n",
       "      <td>168800.0</td>\n",
       "    </tr>\n",
       "  </tbody>\n",
       "</table>\n",
       "</div>"
      ],
      "text/plain": [
       "   median_house_value\n",
       "0            151600.0\n",
       "1             99200.0\n",
       "2            134500.0\n",
       "3            231700.0\n",
       "4            462900.0\n",
       "5            140700.0\n",
       "6            170300.0\n",
       "7            160300.0\n",
       "8            101800.0\n",
       "9            168800.0"
      ]
     },
     "execution_count": 41,
     "metadata": {},
     "output_type": "execute_result"
    }
   ],
   "source": [
    "y_real[:10]"
   ]
  },
  {
   "cell_type": "code",
   "execution_count": 42,
   "metadata": {},
   "outputs": [],
   "source": [
    "error = mean_squared_error(y_real[:len(y_pred)], y_pred)"
   ]
  },
  {
   "cell_type": "code",
   "execution_count": 43,
   "metadata": {},
   "outputs": [
    {
     "name": "stdout",
     "output_type": "stream",
     "text": [
      "mean squared error: 7001186561.655614\n"
     ]
    }
   ],
   "source": [
    "print(\"mean squared error:\", error)"
   ]
  },
  {
   "cell_type": "code",
   "execution_count": 44,
   "metadata": {},
   "outputs": [
    {
     "data": {
      "image/png": "[encoded data removed]",
      "text/plain": [
       "<Figure size 432x288 with 1 Axes>"
      ]
     },
     "metadata": {
      "needs_background": "light"
     },
     "output_type": "display_data"
    }
   ],
   "source": [
    "plt.scatter(range(len(y_pred)), y_pred, color=\"orange\")\n",
    "plt.scatter(range(len(y_pred)), y_real[:len(y_pred)].values, color=\"blue\")\n",
    "plt.show()"
   ]
  },
  {
   "cell_type": "code",
   "execution_count": null,
   "metadata": {},
   "outputs": [],
   "source": []
  }
 ],
 "metadata": {
  "kernelspec": {
   "display_name": "Python 3",
   "language": "python",
   "name": "python3"
  },
  "language_info": {
   "codemirror_mode": {
    "name": "ipython",
    "version": 3
   },
   "file_extension": ".py",
   "mimetype": "text/x-python",
   "name": "python",
   "nbconvert_exporter": "python",
   "pygments_lexer": "ipython3",
   "version": "3.7.4"
  }
 },
 "nbformat": 4,
 "nbformat_minor": 4
}
